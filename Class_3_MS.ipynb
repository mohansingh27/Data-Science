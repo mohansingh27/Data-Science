{
 "cells": [
  {
   "cell_type": "code",
   "execution_count": 3,
   "id": "a8e8b5da-a6ee-4913-9492-071b99c3f7a1",
   "metadata": {},
   "outputs": [
    {
     "data": {
      "text/plain": [
       "[24, 268, 62, 'sun', 'moon', 72, 68]"
      ]
     },
     "execution_count": 3,
     "metadata": {},
     "output_type": "execute_result"
    }
   ],
   "source": [
    "#Slicing\n",
    "\n",
    "abc= [24,268,62,'sun','moon',72,68]\n",
    "abc"
   ]
  },
  {
   "cell_type": "code",
   "execution_count": 5,
   "id": "42956796-761e-4926-861e-a3bb2151fd42",
   "metadata": {},
   "outputs": [
    {
     "data": {
      "text/plain": [
       "[24, 268]"
      ]
     },
     "execution_count": 5,
     "metadata": {},
     "output_type": "execute_result"
    }
   ],
   "source": [
    "abc[0:2]"
   ]
  },
  {
   "cell_type": "code",
   "execution_count": 7,
   "id": "04f48b07-fef9-4a2e-a7a6-1aa383cef083",
   "metadata": {},
   "outputs": [
    {
     "data": {
      "text/plain": [
       "['sun', 'moon']"
      ]
     },
     "execution_count": 7,
     "metadata": {},
     "output_type": "execute_result"
    }
   ],
   "source": [
    "abc[3:5]"
   ]
  },
  {
   "cell_type": "code",
   "execution_count": 11,
   "id": "7bb9fd90-0acd-4550-b462-efe5944c331c",
   "metadata": {},
   "outputs": [
    {
     "data": {
      "text/plain": [
       "['sun', 'moon']"
      ]
     },
     "execution_count": 11,
     "metadata": {},
     "output_type": "execute_result"
    }
   ],
   "source": [
    "# Negative Index\n",
    "\n",
    "abc[-4:-2]"
   ]
  },
  {
   "cell_type": "code",
   "execution_count": 13,
   "id": "58e5f576-32ed-441e-8109-580b1468b358",
   "metadata": {},
   "outputs": [
    {
     "data": {
      "text/plain": [
       "168"
      ]
     },
     "execution_count": 13,
     "metadata": {},
     "output_type": "execute_result"
    }
   ],
   "source": [
    "# f string\n",
    "\n",
    "a= 78\n",
    "b= 90\n",
    "sum= a+b\n",
    "sum"
   ]
  },
  {
   "cell_type": "code",
   "execution_count": 21,
   "id": "65328974-48d0-4ab8-b3f6-543310db7e2a",
   "metadata": {},
   "outputs": [
    {
     "name": "stdout",
     "output_type": "stream",
     "text": [
      "sum of a and b is 168 \n"
     ]
    }
   ],
   "source": [
    "a= 78\n",
    "b= 90\n",
    "sum= a+b\n",
    "print(f'sum of a and b is {sum} ')"
   ]
  },
  {
   "cell_type": "code",
   "execution_count": 29,
   "id": "cf994f68-9954-4bb6-9fac-78af6e980f72",
   "metadata": {},
   "outputs": [
    {
     "name": "stdout",
     "output_type": "stream",
     "text": [
      "difference of b and a is 12 \n"
     ]
    }
   ],
   "source": [
    "a= 78\n",
    "b= 90\n",
    "dif= b-a\n",
    "print(f'difference of b and a is {dif} ')"
   ]
  },
  {
   "cell_type": "code",
   "execution_count": 31,
   "id": "e9edea72-0bce-4b06-bd8e-5fc3cd0c56f9",
   "metadata": {},
   "outputs": [
    {
     "name": "stdin",
     "output_type": "stream",
     "text": [
      "please enter the value of a:  8767\n",
      "please enter the value of a:  78\n"
     ]
    },
    {
     "name": "stdout",
     "output_type": "stream",
     "text": [
      "/n the sum of two variables is : 168/n\n",
      "/n the diff of two variables is : 12/n\n"
     ]
    },
    {
     "ename": "NameError",
     "evalue": "name 'mul' is not defined",
     "output_type": "error",
     "traceback": [
      "\u001b[1;31m---------------------------------------------------------------------------\u001b[0m",
      "\u001b[1;31mNameError\u001b[0m                                 Traceback (most recent call last)",
      "Cell \u001b[1;32mIn[31], line 10\u001b[0m\n\u001b[0;32m      8\u001b[0m \u001b[38;5;28mprint\u001b[39m(\u001b[38;5;124mf\u001b[39m\u001b[38;5;124m'\u001b[39m\u001b[38;5;124m/n the sum of two variables is : \u001b[39m\u001b[38;5;132;01m{\u001b[39;00m\u001b[38;5;28msum\u001b[39m\u001b[38;5;132;01m}\u001b[39;00m\u001b[38;5;124m/n\u001b[39m\u001b[38;5;124m'\u001b[39m)\n\u001b[0;32m      9\u001b[0m \u001b[38;5;28mprint\u001b[39m(\u001b[38;5;124mf\u001b[39m\u001b[38;5;124m'\u001b[39m\u001b[38;5;124m/n the diff of two variables is : \u001b[39m\u001b[38;5;132;01m{\u001b[39;00mdif\u001b[38;5;132;01m}\u001b[39;00m\u001b[38;5;124m/n\u001b[39m\u001b[38;5;124m'\u001b[39m)\n\u001b[1;32m---> 10\u001b[0m \u001b[38;5;28mprint\u001b[39m(\u001b[38;5;124mf\u001b[39m\u001b[38;5;124m'\u001b[39m\u001b[38;5;124m/n the mul of two variables is : \u001b[39m\u001b[38;5;132;01m{\u001b[39;00mmul\u001b[38;5;132;01m}\u001b[39;00m\u001b[38;5;124m/n\u001b[39m\u001b[38;5;124m'\u001b[39m)\n\u001b[0;32m     11\u001b[0m \u001b[38;5;28mprint\u001b[39m(\u001b[38;5;124mf\u001b[39m\u001b[38;5;124m'\u001b[39m\u001b[38;5;124m/n the div of two variables is : \u001b[39m\u001b[38;5;132;01m{\u001b[39;00mdiv\u001b[38;5;132;01m}\u001b[39;00m\u001b[38;5;124m/n\u001b[39m\u001b[38;5;124m'\u001b[39m)\n\u001b[0;32m     12\u001b[0m \u001b[38;5;28mprint\u001b[39m(\u001b[38;5;124mf\u001b[39m\u001b[38;5;124m'\u001b[39m\u001b[38;5;124m/n the mod of two variables is : \u001b[39m\u001b[38;5;132;01m{\u001b[39;00mmod\u001b[38;5;132;01m}\u001b[39;00m\u001b[38;5;124m/n\u001b[39m\u001b[38;5;124m'\u001b[39m)\n",
      "\u001b[1;31mNameError\u001b[0m: name 'mul' is not defined"
     ]
    }
   ],
   "source": [
    "a= int(input('plese enter the value of a; ')) \n",
    "b= int(input('plese enter the value of b; ')) \n",
    "sum= a+b\n",
    "dif= a-b\n",
    "mul= a*b\n",
    "div= a/b\n",
    "mod= a%b\n",
    "\n",
    "print(f'/n the sum of two variables is : {sum}/n')\n",
    "print(f'/n the sum of two variables is : {dif}/n')\n",
    "print(f'/n the sum of two variables is : {mul}/n')\n",
    "print(f'/n the sum of two variables is : {div}/n')\n",
    "print(f'/n the sum of two variables is : {mod}/n')"
   ]
  },
  {
   "cell_type": "code",
   "execution_count": 35,
   "id": "509da1ee-b439-4bd4-afa9-457076932ac7",
   "metadata": {},
   "outputs": [
    {
     "ename": "SyntaxError",
     "evalue": "invalid syntax. Perhaps you forgot a comma? (4121859650.py, line 9)",
     "output_type": "error",
     "traceback": [
      "\u001b[1;36m  Cell \u001b[1;32mIn[35], line 9\u001b[1;36m\u001b[0m\n\u001b[1;33m    print(f/n 'the sum of two variables is : {sum}/n')\u001b[0m\n\u001b[1;37m          ^\u001b[0m\n\u001b[1;31mSyntaxError\u001b[0m\u001b[1;31m:\u001b[0m invalid syntax. Perhaps you forgot a comma?\n"
     ]
    }
   ],
   "source": [
    "a= int(input('plese enter the value of a: ')) \n",
    "b= int(input('plese enter the value of b: ')) \n",
    "sum= a+b\n",
    "dif= a-b\n",
    "mul= a*b\n",
    "div= a/b\n",
    "mod= a%b\n",
    "\n",
    "print(f/n 'the sum of two variables is : {sum}/n')\n",
    "print(f/n 'the sum of two variables is : {dif}/n')\n",
    "print(f/n 'the sum of two variables is : {mul}/n')\n",
    "print(f/n 'the sum of two variables is : {div}/n')\n",
    "print(f/n 'the sum of two variables is : {mod}/n')\n"
   ]
  },
  {
   "cell_type": "code",
   "execution_count": 51,
   "id": "7574fddb-7f97-4106-90a4-6222c72279d3",
   "metadata": {},
   "outputs": [
    {
     "name": "stdin",
     "output_type": "stream",
     "text": [
      "plese enter the value of x:  90\n",
      "plese enter the value of y:  105\n"
     ]
    },
    {
     "name": "stdout",
     "output_type": "stream",
     "text": [
      "the sum of two variables is : 195 \n",
      "the sum of two variables is : 15 \n",
      "the sum of two variables is : 9450 \n",
      "the sum of two variables is : 1.1666666666666667 \n",
      "the sum of two variables is : 15 \n"
     ]
    }
   ],
   "source": [
    "x= int(input('plese enter the value of x: ')) \n",
    "y= int(input('plese enter the value of y: ')) \n",
    "sum= x+y\n",
    "dif= y-x\n",
    "mul= y*x\n",
    "div= y/x\n",
    "mod= y%x\n",
    "print(f'the sum of two variables is : {sum} ')\n",
    "print(f'the sum of two variables is : {dif} ')\n",
    "print(f'the sum of two variables is : {mul} ')\n",
    "print(f'the sum of two variables is : {div} ')\n",
    "print(f'the sum of two variables is : {mod} ')"
   ]
  },
  {
   "cell_type": "code",
   "execution_count": 59,
   "id": "6635b815-4d4f-434d-b9ee-44a09a9edb23",
   "metadata": {},
   "outputs": [
    {
     "data": {
      "text/plain": [
       "1344"
      ]
     },
     "execution_count": 59,
     "metadata": {},
     "output_type": "execute_result"
    }
   ],
   "source": [
    "add= lambda c,d:c*d\n",
    "add(24,56)"
   ]
  },
  {
   "cell_type": "code",
   "execution_count": 71,
   "id": "1cab3606-38b0-4d3a-accc-8b594134db2d",
   "metadata": {},
   "outputs": [
    {
     "name": "stdout",
     "output_type": "stream",
     "text": [
      "0\n",
      "1\n",
      "2\n",
      "3\n",
      "4\n"
     ]
    }
   ],
   "source": [
    "# loop\n",
    "\n",
    "for i in range (0,5):\n",
    "    print (i)"
   ]
  },
  {
   "cell_type": "code",
   "execution_count": 73,
   "id": "6b4478f6-2d7a-41e9-91c0-9230bc2876db",
   "metadata": {},
   "outputs": [
    {
     "name": "stdout",
     "output_type": "stream",
     "text": [
      "0\n",
      "1\n",
      "2\n",
      "3\n",
      "4\n",
      "5\n"
     ]
    }
   ],
   "source": [
    "#loops\n",
    "\n",
    "for i in range (0,6):\n",
    "    print(i)\n",
    "    "
   ]
  },
  {
   "cell_type": "code",
   "execution_count": 79,
   "id": "73411252-2b08-4776-b0ac-d522440d06b6",
   "metadata": {},
   "outputs": [
    {
     "data": {
      "text/plain": [
       "['Mohan', 'Arjun', 'Anup', 'Ranjan', 'Mysore', 'Bangalore', 65476, 56767]"
      ]
     },
     "execution_count": 79,
     "metadata": {},
     "output_type": "execute_result"
    }
   ],
   "source": [
    "list= ['Mohan','Arjun','Anup','Ranjan','Mysore','Bangalore',65476,56767]\n",
    "list"
   ]
  },
  {
   "cell_type": "code",
   "execution_count": 81,
   "id": "3d3e5c27-a7fd-48cb-a5a7-24814891cc02",
   "metadata": {},
   "outputs": [
    {
     "data": {
      "text/plain": [
       "8"
      ]
     },
     "execution_count": 81,
     "metadata": {},
     "output_type": "execute_result"
    }
   ],
   "source": [
    "# Length\n",
    "\n",
    "len(list)"
   ]
  },
  {
   "cell_type": "code",
   "execution_count": 87,
   "id": "6037e941-e523-47cd-b730-07e0f2396d39",
   "metadata": {},
   "outputs": [
    {
     "name": "stdout",
     "output_type": "stream",
     "text": [
      "[23, 33, 11, 77, 45, 35]\n",
      "[24, 56, 78, 90]\n"
     ]
    }
   ],
   "source": [
    "list1= [24,56,23,33,11,78,77,90,45,35]\n",
    "even_list= []\n",
    "odd_list= []\n",
    "for i in list1:\n",
    "    if i%2==0:\n",
    "        even_list.append(i)\n",
    "    else:\n",
    "        odd_list.append(i)\n",
    "\n",
    "print(odd_list)\n",
    "print(even_list)"
   ]
  },
  {
   "cell_type": "code",
   "execution_count": 89,
   "id": "e085796f-b325-42e0-9f5e-35bce2a4b03d",
   "metadata": {},
   "outputs": [
    {
     "name": "stdout",
     "output_type": "stream",
     "text": [
      "0\n",
      "1\n",
      "2\n",
      "3\n",
      "4\n"
     ]
    }
   ],
   "source": [
    "# While Loop\n",
    "\n",
    "count= 0\n",
    "while count<5:\n",
    "    print(count)\n",
    "    count= count+1\n"
   ]
  },
  {
   "cell_type": "code",
   "execution_count": 1,
   "id": "bf812d66-bcaf-47ab-808e-d8a40c3a1af3",
   "metadata": {},
   "outputs": [
    {
     "name": "stdout",
     "output_type": "stream",
     "text": [
      "0\n",
      "1\n",
      "2\n",
      "3\n",
      "4\n"
     ]
    }
   ],
   "source": [
    "M= 0\n",
    "while M<5:\n",
    "    print(M)\n",
    "    M= M+1"
   ]
  },
  {
   "cell_type": "code",
   "execution_count": 11,
   "id": "e8b01a4f-7b4f-4e33-a9b4-7f3fff88ef8d",
   "metadata": {},
   "outputs": [
    {
     "name": "stdout",
     "output_type": "stream",
     "text": [
      "I like (fruits)\n",
      "I like (fruits)\n",
      "I like (fruits)\n"
     ]
    }
   ],
   "source": [
    "fruits= ['apple','bannaa','mango']\n",
    "for F in fruits:\n",
    "    print(f'I like (fruits)')"
   ]
  },
  {
   "cell_type": "code",
   "execution_count": 25,
   "id": "6d535875-e5d5-428d-9cc3-08e60d3243fd",
   "metadata": {},
   "outputs": [
    {
     "name": "stdout",
     "output_type": "stream",
     "text": [
      "values of i and J are 0\n",
      "values of i and J are 1\n"
     ]
    }
   ],
   "source": [
    "# Nested loop\n",
    "\n",
    "for i in range(2):\n",
    "    for j in range(1):\n",
    "        print(f'values of i and J are {i+j}')\n",
    "\n",
    "\n",
    "\n",
    "\n",
    "    "
   ]
  },
  {
   "cell_type": "code",
   "execution_count": 33,
   "id": "70035c2f-f96c-4643-b58a-fd2e2c9104b6",
   "metadata": {},
   "outputs": [
    {
     "name": "stdout",
     "output_type": "stream",
     "text": [
      "0\n",
      "1\n",
      "2\n",
      "3\n",
      "4\n",
      "5\n"
     ]
    }
   ],
   "source": [
    "# nested Loops\n",
    "\n",
    "for i in range(6):\n",
    "    print(i)"
   ]
  },
  {
   "cell_type": "code",
   "execution_count": 43,
   "id": "8ae0e7c8-2c12-4133-9eec-669a5e9673ce",
   "metadata": {},
   "outputs": [
    {
     "name": "stdout",
     "output_type": "stream",
     "text": [
      "0\n",
      "1\n",
      "2\n"
     ]
    }
   ],
   "source": [
    "# break statement\n",
    "\n",
    "for i in range(6):\n",
    "    if i==3:\n",
    "     break\n",
    "    print(i)"
   ]
  },
  {
   "cell_type": "code",
   "execution_count": 47,
   "id": "165c9305-6bf8-41ec-bcd9-8fc89d8f33a2",
   "metadata": {},
   "outputs": [
    {
     "name": "stdout",
     "output_type": "stream",
     "text": [
      "0\n",
      "1\n",
      "2\n",
      "3\n",
      "4\n",
      "6\n",
      "7\n",
      "8\n",
      "9\n"
     ]
    }
   ],
   "source": [
    "for i in range(10):\n",
    "    if i ==5:\n",
    "     continue\n",
    "    print(i)"
   ]
  },
  {
   "cell_type": "code",
   "execution_count": 57,
   "id": "4516ad4d-a5fe-4ca9-be1c-2a130dca7f4c",
   "metadata": {},
   "outputs": [
    {
     "name": "stdout",
     "output_type": "stream",
     "text": [
      "FC\n"
     ]
    }
   ],
   "source": [
    "# Nested if and Else statement\n",
    "\n",
    "marks= 79\n",
    "if marks==100:\n",
    "    print('congratz, you have nailed it')\n",
    "elif marks>=91 and marks<=99:\n",
    "    print('Best marks')\n",
    "elif marks>=81 and marks<=90:\n",
    "    print('FCD')\n",
    "elif marks>=71 and marks<=80:\n",
    "    print('FC')\n",
    "else:\n",
    "    print('average marks')"
   ]
  },
  {
   "cell_type": "code",
   "execution_count": 61,
   "id": "d7dc3d92-0523-4289-bd36-43ffe48b5b3b",
   "metadata": {},
   "outputs": [],
   "source": [
    "# List comprehension\n",
    "\n",
    "# Loop-\n",
    "\n",
    "Salary= ['15M','30M','25M','33M']\n",
    "new_salary=[]\n",
    "for i in Salary:\n",
    "    new_salary.append(int(i.strip('M')))\n",
    "    \n",
    "\n"
   ]
  },
  {
   "cell_type": "code",
   "execution_count": 63,
   "id": "bb99b209-be60-422c-a24b-fb82c2371c39",
   "metadata": {},
   "outputs": [
    {
     "data": {
      "text/plain": [
       "[15, 30, 25, 33]"
      ]
     },
     "execution_count": 63,
     "metadata": {},
     "output_type": "execute_result"
    }
   ],
   "source": [
    "new_salary"
   ]
  },
  {
   "cell_type": "code",
   "execution_count": 67,
   "id": "2244a1b3-d449-4d7e-871d-9ffec0e952e3",
   "metadata": {},
   "outputs": [
    {
     "ename": "SyntaxError",
     "evalue": "invalid syntax (595118724.py, line 2)",
     "output_type": "error",
     "traceback": [
      "\u001b[1;36m  Cell \u001b[1;32mIn[67], line 2\u001b[1;36m\u001b[0m\n\u001b[1;33m    Salary= [int(i.rstrip('M'))] for i in salary\u001b[0m\n\u001b[1;37m                                 ^\u001b[0m\n\u001b[1;31mSyntaxError\u001b[0m\u001b[1;31m:\u001b[0m invalid syntax\n"
     ]
    }
   ],
   "source": [
    "# List comprehension\n",
    "Salary= [int(i.rstrip('M'))] for i in salary"
   ]
  },
  {
   "cell_type": "code",
   "execution_count": 81,
   "id": "571bb175-42e0-4370-86c9-d9a22d641043",
   "metadata": {},
   "outputs": [
    {
     "data": {
      "text/plain": [
       "[15, 30, 25, 33]"
      ]
     },
     "execution_count": 81,
     "metadata": {},
     "output_type": "execute_result"
    }
   ],
   "source": [
    "Salary"
   ]
  },
  {
   "cell_type": "code",
   "execution_count": 83,
   "id": "adbf1ec8-d740-4c18-886d-a4209bfd9241",
   "metadata": {},
   "outputs": [
    {
     "data": {
      "text/plain": [
       "[15, 30, 25, 33]"
      ]
     },
     "execution_count": 83,
     "metadata": {},
     "output_type": "execute_result"
    }
   ],
   "source": [
    "# List comprehension\n",
    "Salary = ['15M','30M','25M','33M']\n",
    "Salary= [int(i.rstrip('M')) for i in Salary]\n",
    "Salary"
   ]
  },
  {
   "cell_type": "code",
   "execution_count": null,
   "id": "7d0651a7-f335-4a90-bb05-5154fe44292a",
   "metadata": {},
   "outputs": [],
   "source": [
    "# \n"
   ]
  }
 ],
 "metadata": {
  "kernelspec": {
   "display_name": "Python 3 (ipykernel)",
   "language": "python",
   "name": "python3"
  },
  "language_info": {
   "codemirror_mode": {
    "name": "ipython",
    "version": 3
   },
   "file_extension": ".py",
   "mimetype": "text/x-python",
   "name": "python",
   "nbconvert_exporter": "python",
   "pygments_lexer": "ipython3",
   "version": "3.12.4"
  }
 },
 "nbformat": 4,
 "nbformat_minor": 5
}
