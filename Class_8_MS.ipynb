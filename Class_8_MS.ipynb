{
 "cells": [
  {
   "cell_type": "code",
   "execution_count": 3,
   "id": "b8a956f0-1b91-4062-a8a0-1cd5f56d53a1",
   "metadata": {},
   "outputs": [
    {
     "data": {
      "text/html": [
       "<div>\n",
       "<style scoped>\n",
       "    .dataframe tbody tr th:only-of-type {\n",
       "        vertical-align: middle;\n",
       "    }\n",
       "\n",
       "    .dataframe tbody tr th {\n",
       "        vertical-align: top;\n",
       "    }\n",
       "\n",
       "    .dataframe thead th {\n",
       "        text-align: right;\n",
       "    }\n",
       "</style>\n",
       "<table border=\"1\" class=\"dataframe\">\n",
       "  <thead>\n",
       "    <tr style=\"text-align: right;\">\n",
       "      <th></th>\n",
       "      <th>Feature1</th>\n",
       "      <th>Feature 2</th>\n",
       "    </tr>\n",
       "  </thead>\n",
       "  <tbody>\n",
       "    <tr>\n",
       "      <th>0</th>\n",
       "      <td>10</td>\n",
       "      <td>100</td>\n",
       "    </tr>\n",
       "    <tr>\n",
       "      <th>1</th>\n",
       "      <td>20</td>\n",
       "      <td>200</td>\n",
       "    </tr>\n",
       "    <tr>\n",
       "      <th>2</th>\n",
       "      <td>30</td>\n",
       "      <td>300</td>\n",
       "    </tr>\n",
       "    <tr>\n",
       "      <th>3</th>\n",
       "      <td>40</td>\n",
       "      <td>400</td>\n",
       "    </tr>\n",
       "    <tr>\n",
       "      <th>4</th>\n",
       "      <td>50</td>\n",
       "      <td>500</td>\n",
       "    </tr>\n",
       "  </tbody>\n",
       "</table>\n",
       "</div>"
      ],
      "text/plain": [
       "   Feature1  Feature 2\n",
       "0        10        100\n",
       "1        20        200\n",
       "2        30        300\n",
       "3        40        400\n",
       "4        50        500"
      ]
     },
     "execution_count": 3,
     "metadata": {},
     "output_type": "execute_result"
    }
   ],
   "source": [
    "# Data Transformation\n",
    "\n",
    "import pandas as pd\n",
    "from sklearn.preprocessing import MinMaxScaler, StandardScaler\n",
    "\n",
    "# Sample Data\n",
    "data= {\n",
    "    'Feature1': [10,20,30,40,50],\n",
    "    'Feature 2': [100,200,300,400,500]\n",
    "}\n",
    "df= pd.DataFrame(data)\n",
    "df"
   ]
  },
  {
   "cell_type": "code",
   "execution_count": 11,
   "id": "452e72f7-edd2-4e0e-af40-4ea8689a8ec9",
   "metadata": {},
   "outputs": [
    {
     "name": "stdout",
     "output_type": "stream",
     "text": [
      "Min-Max Scaled Data:\n",
      "    Feature1  Feature 2\n",
      "0      0.00       0.00\n",
      "1      0.25       0.25\n",
      "2      0.50       0.50\n",
      "3      0.75       0.75\n",
      "4      1.00       1.00\n"
     ]
    }
   ],
   "source": [
    "# Min-Max scaling\n",
    "scaler= MinMaxScaler()\n",
    "df_min_max_scaled= pd.DataFrame(scaler.fit_transform(df), columns=df.columns)\n",
    "print(\"Min-Max Scaled Data:\\n\",df_min_max_scaled)"
   ]
  },
  {
   "cell_type": "code",
   "execution_count": 19,
   "id": "df1bb494-ffce-4dea-b09a-d844fb845f93",
   "metadata": {},
   "outputs": [
    {
     "name": "stdout",
     "output_type": "stream",
     "text": [
      "Standardized Data:\n",
      "    Feature1  Feature 2\n",
      "0 -1.414214  -1.414214\n",
      "1 -0.707107  -0.707107\n",
      "2  0.000000   0.000000\n",
      "3  0.707107   0.707107\n",
      "4  1.414214   1.414214\n"
     ]
    }
   ],
   "source": [
    "# Standardization\n",
    "scaler= StandardScaler()\n",
    "df_standard_scaled= pd.DataFrame(scaler.fit_transform(df),columns=df.columns)\n",
    "print(\"Standardized Data:\\n\",df_standard_scaled)"
   ]
  },
  {
   "cell_type": "code",
   "execution_count": 21,
   "id": "7200c7bb-933e-47ff-bd3c-0cf7d2732447",
   "metadata": {},
   "outputs": [
    {
     "data": {
      "text/html": [
       "<div>\n",
       "<style scoped>\n",
       "    .dataframe tbody tr th:only-of-type {\n",
       "        vertical-align: middle;\n",
       "    }\n",
       "\n",
       "    .dataframe tbody tr th {\n",
       "        vertical-align: top;\n",
       "    }\n",
       "\n",
       "    .dataframe thead th {\n",
       "        text-align: right;\n",
       "    }\n",
       "</style>\n",
       "<table border=\"1\" class=\"dataframe\">\n",
       "  <thead>\n",
       "    <tr style=\"text-align: right;\">\n",
       "      <th></th>\n",
       "      <th>City</th>\n",
       "    </tr>\n",
       "  </thead>\n",
       "  <tbody>\n",
       "    <tr>\n",
       "      <th>0</th>\n",
       "      <td>New York</td>\n",
       "    </tr>\n",
       "    <tr>\n",
       "      <th>1</th>\n",
       "      <td>Los Angeles</td>\n",
       "    </tr>\n",
       "    <tr>\n",
       "      <th>2</th>\n",
       "      <td>Chicago</td>\n",
       "    </tr>\n",
       "    <tr>\n",
       "      <th>3</th>\n",
       "      <td>Houston</td>\n",
       "    </tr>\n",
       "    <tr>\n",
       "      <th>4</th>\n",
       "      <td>Phoneix</td>\n",
       "    </tr>\n",
       "  </tbody>\n",
       "</table>\n",
       "</div>"
      ],
      "text/plain": [
       "          City\n",
       "0     New York\n",
       "1  Los Angeles\n",
       "2      Chicago\n",
       "3      Houston\n",
       "4      Phoneix"
      ]
     },
     "execution_count": 21,
     "metadata": {},
     "output_type": "execute_result"
    }
   ],
   "source": [
    "# Example\n",
    "\n",
    "from sklearn.preprocessing import LabelEncoder\n",
    "\n",
    "# Sample Data\n",
    "data= {\n",
    "    'City': ['New York', 'Los Angeles','Chicago','Houston','Phoneix']\n",
    "}\n",
    "df1= pd.DataFrame(data)\n",
    "df1"
   ]
  },
  {
   "cell_type": "code",
   "execution_count": 23,
   "id": "210ddb41-be5e-4ce8-b1dc-6cc200db0f5d",
   "metadata": {},
   "outputs": [
    {
     "name": "stdout",
     "output_type": "stream",
     "text": [
      "Label Encoded Data:\n",
      "           City  City_Label_Encoded\n",
      "0     New York                   3\n",
      "1  Los Angeles                   2\n",
      "2      Chicago                   0\n",
      "3      Houston                   1\n",
      "4      Phoneix                   4\n"
     ]
    }
   ],
   "source": [
    "# Label Encoding\n",
    "label_encoder= LabelEncoder()\n",
    "df1['City_Label_Encoded']= label_encoder.fit_transform(df1['City'])\n",
    "print(\"Label Encoded Data:\\n\",df1)"
   ]
  },
  {
   "cell_type": "code",
   "execution_count": 25,
   "id": "cb98bcda-310b-4401-9a37-08e1f90e3315",
   "metadata": {},
   "outputs": [
    {
     "name": "stdout",
     "output_type": "stream",
     "text": [
      "One-Hot Encoded Data:\n",
      "           City  City_Label_Encoded  City_Chicago  City_Houston  \\\n",
      "0     New York                   3         False         False   \n",
      "1  Los Angeles                   2         False         False   \n",
      "2      Chicago                   0          True         False   \n",
      "3      Houston                   1         False          True   \n",
      "4      Phoneix                   4         False         False   \n",
      "\n",
      "   City_Los Angeles  City_New York  City_Phoneix  \n",
      "0             False           True         False  \n",
      "1              True          False         False  \n",
      "2             False          False         False  \n",
      "3             False          False         False  \n",
      "4             False          False          True  \n"
     ]
    }
   ],
   "source": [
    "# One-Hot Encoding Using Pandas\n",
    "df_one_hot= pd.get_dummies(df1['City'],prefix='City')\n",
    "df2= pd.concat([df1,df_one_hot],axis=1)\n",
    "print('One-Hot Encoded Data:\\n',df2)"
   ]
  },
  {
   "cell_type": "code",
   "execution_count": 37,
   "id": "0c7ebbe8-3450-4e66-bc23-c1d10ed7c9b0",
   "metadata": {},
   "outputs": [
    {
     "name": "stdout",
     "output_type": "stream",
     "text": [
      "      Name  Age  Income($)\n",
      "0    Alice   25      50000\n",
      "1      Bob   45     120000\n",
      "2  Charlie   35      80000\n",
      "3    David   50     150000\n",
      "4      Eve   23      45000\n",
      "5    Frank   52     130000\n",
      "6    Grace   30      70000\n",
      "7    Heidi   40     110000\n",
      "8     Ivan   48     140000\n",
      "9     Judy   28      65000\n"
     ]
    }
   ],
   "source": [
    "# Exercise: Scaling!\n",
    "\n",
    "import pandas as pd\n",
    "\n",
    "# Creating a toy dataset\n",
    "data1 = {\n",
    "    'Name': ['Alice', 'Bob', 'Charlie', 'David', 'Eve', 'Frank', 'Grace', 'Heidi', 'Ivan', 'Judy'],\n",
    "    'Age': [25, 45, 35, 50, 23, 52, 30, 40, 48, 28],\n",
    "    'Income($)': [50000, 120000, 80000, 150000, 45000, 130000, 70000, 110000, 140000, 65000]\n",
    "}\n",
    "\n",
    "# Converting the data to a pandas DataFrame\n",
    "df_e = pd.DataFrame(data1)\n",
    "\n",
    "# Displaying the dataset\n",
    "print(df_e)"
   ]
  },
  {
   "cell_type": "code",
   "execution_count": 61,
   "id": "baaa3c8a-f0e6-4c2a-a943-20964fa0fd6c",
   "metadata": {},
   "outputs": [
    {
     "name": "stdout",
     "output_type": "stream",
     "text": [
      "Min-Max Scaled Data:\n",
      "         Age  Income($)\n",
      "0  0.068966   0.047619\n",
      "1  0.758621   0.714286\n",
      "2  0.413793   0.333333\n",
      "3  0.931034   1.000000\n",
      "4  0.000000   0.000000\n",
      "5  1.000000   0.809524\n",
      "6  0.241379   0.238095\n",
      "7  0.586207   0.619048\n",
      "8  0.862069   0.904762\n",
      "9  0.172414   0.190476\n"
     ]
    }
   ],
   "source": [
    "scaler= MinMaxScaler()\n",
    "df_min_max_scaled1= pd.DataFrame(scaler.fit_transform(df_e[['Age','Income($)']]), columns=['Age','Income($)'])\n",
    "print(\"Min-Max Scaled Data:\\n\",df_min_max_scaled1)"
   ]
  },
  {
   "cell_type": "code",
   "execution_count": 65,
   "id": "5bca2db3-27d1-4bd1-9101-51a6f342dd04",
   "metadata": {},
   "outputs": [
    {
     "name": "stdout",
     "output_type": "stream",
     "text": [
      "Standardized Data:\n",
      "         Age  Income($)\n",
      "0 -1.224745  -1.257093\n",
      "1  0.719295   0.655875\n",
      "2 -0.252725  -0.437250\n",
      "3  1.205304   1.475718\n",
      "4 -1.419149  -1.393734\n",
      "5  1.399708   0.929156\n",
      "6 -0.738735  -0.710531\n",
      "7  0.233285   0.382594\n",
      "8  1.010901   1.202437\n",
      "9 -0.933139  -0.847172\n"
     ]
    }
   ],
   "source": [
    "# Standardization\n",
    "scaler= StandardScaler()\n",
    "df_standard_scaled= pd.DataFrame(scaler.fit_transform(df_e[['Age','Income($)']]),columns=['Age','Income($)'])\n",
    "print(\"Standardized Data:\\n\",df_standard_scaled)"
   ]
  },
  {
   "cell_type": "code",
   "execution_count": 49,
   "id": "a0a49bff-c60c-43ac-876a-59cf86d83759",
   "metadata": {},
   "outputs": [
    {
     "name": "stdout",
     "output_type": "stream",
     "text": [
      "Label Encoded Data:\n",
      "       Name  Age  Income($)  Income_Label_Encoded\n",
      "0    Alice   25      50000                     1\n",
      "1      Bob   45     120000                     6\n",
      "2  Charlie   35      80000                     4\n",
      "3    David   50     150000                     9\n",
      "4      Eve   23      45000                     0\n",
      "5    Frank   52     130000                     7\n",
      "6    Grace   30      70000                     3\n",
      "7    Heidi   40     110000                     5\n",
      "8     Ivan   48     140000                     8\n",
      "9     Judy   28      65000                     2\n"
     ]
    }
   ],
   "source": [
    "# Label Encoding\n",
    "label_encoder= LabelEncoder()\n",
    "df_e['Income_Label_Encoded']= label_encoder.fit_transform(df_e['Income($)'])\n",
    "print(\"Label Encoded Data:\\n\",df_e)"
   ]
  },
  {
   "cell_type": "code",
   "execution_count": 51,
   "id": "411e4c84-748f-4435-88fd-62bbc5c34c64",
   "metadata": {},
   "outputs": [
    {
     "name": "stdout",
     "output_type": "stream",
     "text": [
      "One-Hot Encoded Data:\n",
      "       Name  Age  Income($)  Income_Label_Encoded  Income($)_45000  \\\n",
      "0    Alice   25      50000                     1            False   \n",
      "1      Bob   45     120000                     6            False   \n",
      "2  Charlie   35      80000                     4            False   \n",
      "3    David   50     150000                     9            False   \n",
      "4      Eve   23      45000                     0             True   \n",
      "5    Frank   52     130000                     7            False   \n",
      "6    Grace   30      70000                     3            False   \n",
      "7    Heidi   40     110000                     5            False   \n",
      "8     Ivan   48     140000                     8            False   \n",
      "9     Judy   28      65000                     2            False   \n",
      "\n",
      "   Income($)_50000  Income($)_65000  Income($)_70000  Income($)_80000  \\\n",
      "0             True            False            False            False   \n",
      "1            False            False            False            False   \n",
      "2            False            False            False             True   \n",
      "3            False            False            False            False   \n",
      "4            False            False            False            False   \n",
      "5            False            False            False            False   \n",
      "6            False            False             True            False   \n",
      "7            False            False            False            False   \n",
      "8            False            False            False            False   \n",
      "9            False             True            False            False   \n",
      "\n",
      "   Income($)_110000  Income($)_120000  Income($)_130000  Income($)_140000  \\\n",
      "0             False             False             False             False   \n",
      "1             False              True             False             False   \n",
      "2             False             False             False             False   \n",
      "3             False             False             False             False   \n",
      "4             False             False             False             False   \n",
      "5             False             False              True             False   \n",
      "6             False             False             False             False   \n",
      "7              True             False             False             False   \n",
      "8             False             False             False              True   \n",
      "9             False             False             False             False   \n",
      "\n",
      "   Income($)_150000  \n",
      "0             False  \n",
      "1             False  \n",
      "2             False  \n",
      "3              True  \n",
      "4             False  \n",
      "5             False  \n",
      "6             False  \n",
      "7             False  \n",
      "8             False  \n",
      "9             False  \n"
     ]
    }
   ],
   "source": [
    "# One-Hot Encoding Using Pandas\n",
    "df_one_hot= pd.get_dummies(df_e['Income($)'],prefix='Income($)')\n",
    "df2= pd.concat([df_e,df_one_hot],axis=1)\n",
    "print('One-Hot Encoded Data:\\n',df2)"
   ]
  },
  {
   "cell_type": "code",
   "execution_count": null,
   "id": "772f4209-7d68-4b21-90a1-05b1e32d2c89",
   "metadata": {},
   "outputs": [],
   "source": []
  }
 ],
 "metadata": {
  "kernelspec": {
   "display_name": "Python 3 (ipykernel)",
   "language": "python",
   "name": "python3"
  },
  "language_info": {
   "codemirror_mode": {
    "name": "ipython",
    "version": 3
   },
   "file_extension": ".py",
   "mimetype": "text/x-python",
   "name": "python",
   "nbconvert_exporter": "python",
   "pygments_lexer": "ipython3",
   "version": "3.12.4"
  }
 },
 "nbformat": 4,
 "nbformat_minor": 5
}
