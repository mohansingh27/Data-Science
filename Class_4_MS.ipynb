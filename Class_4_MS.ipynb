{
 "cells": [
  {
   "cell_type": "code",
   "execution_count": null,
   "id": "c39db25e-263a-4f83-b15e-ee881e0d5912",
   "metadata": {},
   "outputs": [],
   "source": [
    "1D_array=[1,2,3] # 1D array\n",
    "2D_array=([1,2,3],[4,5,6]) #2D array\n",
    "3D_array=([1,2,3],[4,5,6][7,8,9],[10,11,12],[13,14,15],[16,17,18],[19,20,21],[22,23,24],[25,26,27] #3D array"
   ]
  },
  {
   "cell_type": "code",
   "execution_count": 25,
   "id": "8a1a36a6-28ff-4eda-a23f-8cbd842876b8",
   "metadata": {},
   "outputs": [
    {
     "data": {
      "text/plain": [
       "list"
      ]
     },
     "execution_count": 25,
     "metadata": {},
     "output_type": "execute_result"
    }
   ],
   "source": [
    "arr= [1,2,3,4,5]\n",
    "type(arr)"
   ]
  },
  {
   "cell_type": "code",
   "execution_count": 15,
   "id": "f79cd1a6-b9a0-4caa-9811-c1f230cd45ae",
   "metadata": {},
   "outputs": [],
   "source": [
    "import numpy as np # Importing NumPy"
   ]
  },
  {
   "cell_type": "code",
   "execution_count": 29,
   "id": "428af4a4-02fd-460d-9b46-5515263c13b5",
   "metadata": {},
   "outputs": [
    {
     "data": {
      "text/plain": [
       "array([1, 2, 3, 4, 5])"
      ]
     },
     "execution_count": 29,
     "metadata": {},
     "output_type": "execute_result"
    }
   ],
   "source": [
    "array1= np.array(arr) # Converting list to array\n",
    "array1"
   ]
  },
  {
   "cell_type": "code",
   "execution_count": 31,
   "id": "f3f463cc-462c-43f5-b922-d11596030b6a",
   "metadata": {},
   "outputs": [
    {
     "data": {
      "text/plain": [
       "numpy.ndarray"
      ]
     },
     "execution_count": 31,
     "metadata": {},
     "output_type": "execute_result"
    }
   ],
   "source": [
    "  type(array1)"
   ]
  },
  {
   "cell_type": "code",
   "execution_count": 41,
   "id": "33cf0b33-bb93-4cb5-9e2a-b2f1ae84ae0b",
   "metadata": {},
   "outputs": [
    {
     "data": {
      "text/plain": [
       "1"
      ]
     },
     "execution_count": 41,
     "metadata": {},
     "output_type": "execute_result"
    }
   ],
   "source": [
    "array1.ndim # To check dimension of the array"
   ]
  },
  {
   "cell_type": "code",
   "execution_count": 43,
   "id": "d6bd1987-86a9-4d8b-86d3-f881626eeab2",
   "metadata": {},
   "outputs": [
    {
     "data": {
      "text/plain": [
       "(5,)"
      ]
     },
     "execution_count": 43,
     "metadata": {},
     "output_type": "execute_result"
    }
   ],
   "source": [
    "array1.shape # To check shape of the array"
   ]
  },
  {
   "cell_type": "code",
   "execution_count": 53,
   "id": "81af037c-4770-433b-9ba4-689d7b56eedd",
   "metadata": {},
   "outputs": [],
   "source": [
    "arr2=[[1,2,3],[4,5,6],[7,8,9]]"
   ]
  },
  {
   "cell_type": "code",
   "execution_count": 55,
   "id": "21cfcd04-ec42-40f0-9360-ee7cf4f3b95b",
   "metadata": {},
   "outputs": [
    {
     "data": {
      "text/plain": [
       "array([[1, 2, 3],\n",
       "       [4, 5, 6],\n",
       "       [7, 8, 9]])"
      ]
     },
     "execution_count": 55,
     "metadata": {},
     "output_type": "execute_result"
    }
   ],
   "source": [
    "array2=np.array(arr2)\n",
    "array2"
   ]
  },
  {
   "cell_type": "code",
   "execution_count": 59,
   "id": "2c79c522-7415-4ad7-813b-3e214ef2a2d6",
   "metadata": {},
   "outputs": [
    {
     "data": {
      "text/plain": [
       "array([[ 1,  2,  3],\n",
       "       [ 4,  5,  6],\n",
       "       [ 7,  8,  9],\n",
       "       [10, 11, 12],\n",
       "       [13, 14, 15],\n",
       "       [16, 17, 18],\n",
       "       [19, 20, 21],\n",
       "       [22, 23, 24],\n",
       "       [25, 26, 27]])"
      ]
     },
     "execution_count": 59,
     "metadata": {},
     "output_type": "execute_result"
    }
   ],
   "source": [
    "arr3= [[1,2,3],[4,5,6],[7,8,9],[10,11,12],[13,14,15],[16,17,18],[19,20,21],[22,23,24],[25,26,27]]\n",
    "array3=np.array(arr3)\n",
    "array3"
   ]
  },
  {
   "cell_type": "code",
   "execution_count": 61,
   "id": "7af3a8c2-15d8-4492-ace0-8ff34cb3c0e8",
   "metadata": {},
   "outputs": [
    {
     "data": {
      "text/plain": [
       "(9, 3)"
      ]
     },
     "execution_count": 61,
     "metadata": {},
     "output_type": "execute_result"
    }
   ],
   "source": [
    "array3.shape"
   ]
  },
  {
   "cell_type": "code",
   "execution_count": 63,
   "id": "5683af9d-d1e8-4efe-a679-058ad14c2a61",
   "metadata": {},
   "outputs": [
    {
     "data": {
      "text/plain": [
       "2"
      ]
     },
     "execution_count": 63,
     "metadata": {},
     "output_type": "execute_result"
    }
   ],
   "source": [
    "array3.ndim"
   ]
  },
  {
   "cell_type": "code",
   "execution_count": 69,
   "id": "c25bec25-22aa-4874-b685-1c762862d3b4",
   "metadata": {},
   "outputs": [
    {
     "data": {
      "text/plain": [
       "14.0"
      ]
     },
     "execution_count": 69,
     "metadata": {},
     "output_type": "execute_result"
    }
   ],
   "source": [
    "# Mean\n",
    "\n",
    "mean_id= np.mean(array3)\n",
    "mean_id"
   ]
  },
  {
   "cell_type": "code",
   "execution_count": 71,
   "id": "6106c137-7ca1-4768-a328-2b62bbd0f6d8",
   "metadata": {},
   "outputs": [
    {
     "data": {
      "text/plain": [
       "3.0"
      ]
     },
     "execution_count": 71,
     "metadata": {},
     "output_type": "execute_result"
    }
   ],
   "source": [
    "mean= np.mean(array1)\n",
    "mean"
   ]
  },
  {
   "cell_type": "code",
   "execution_count": 73,
   "id": "46324541-8b18-4db4-8cbd-6bfc50ea0d01",
   "metadata": {},
   "outputs": [
    {
     "data": {
      "text/plain": [
       "5.0"
      ]
     },
     "execution_count": 73,
     "metadata": {},
     "output_type": "execute_result"
    }
   ],
   "source": [
    "# Medican\n",
    "\n",
    "median= np.median(array2)\n",
    "median"
   ]
  },
  {
   "cell_type": "code",
   "execution_count": 75,
   "id": "c0d97205-3e0a-41cf-b443-d5fb21cdebcf",
   "metadata": {},
   "outputs": [
    {
     "data": {
      "text/plain": [
       "7.788880963698615"
      ]
     },
     "execution_count": 75,
     "metadata": {},
     "output_type": "execute_result"
    }
   ],
   "source": [
    "\n",
    "# Standard Deviation\n",
    "\n",
    "std= np.std(array3)\n",
    "std"
   ]
  },
  {
   "cell_type": "code",
   "execution_count": 79,
   "id": "7d932331-b54a-4a5b-88e7-bea46553a0fd",
   "metadata": {},
   "outputs": [],
   "source": [
    "arr1= np.array([1,2,3])\n",
    "arr2= np.array([4,5,6])"
   ]
  },
  {
   "cell_type": "code",
   "execution_count": 83,
   "id": "f59125f6-7555-40b9-8439-2420a53557d7",
   "metadata": {},
   "outputs": [
    {
     "data": {
      "text/plain": [
       "array([4, 5, 6])"
      ]
     },
     "execution_count": 83,
     "metadata": {},
     "output_type": "execute_result"
    }
   ],
   "source": [
    "arr2"
   ]
  },
  {
   "cell_type": "code",
   "execution_count": 85,
   "id": "9a0cc40d-108c-40df-ae36-16a4ce077a14",
   "metadata": {},
   "outputs": [
    {
     "data": {
      "text/plain": [
       "array([1, 2, 3])"
      ]
     },
     "execution_count": 85,
     "metadata": {},
     "output_type": "execute_result"
    }
   ],
   "source": [
    "arr1"
   ]
  },
  {
   "cell_type": "code",
   "execution_count": 89,
   "id": "f997e145-b928-406b-9366-4465b5cfb5d9",
   "metadata": {},
   "outputs": [
    {
     "data": {
      "text/plain": [
       "array([5, 7, 9])"
      ]
     },
     "execution_count": 89,
     "metadata": {},
     "output_type": "execute_result"
    }
   ],
   "source": [
    "sum_arr= arr1+arr2 #Sum matrix\n",
    "sum_arr"
   ]
  },
  {
   "cell_type": "code",
   "execution_count": 91,
   "id": "0557993e-7c26-4733-b18e-f0f9e1219d91",
   "metadata": {},
   "outputs": [
    {
     "data": {
      "text/plain": [
       "array([3, 3, 3])"
      ]
     },
     "execution_count": 91,
     "metadata": {},
     "output_type": "execute_result"
    }
   ],
   "source": [
    "dif_arr= arr2-arr1 # Difference\n",
    "dif_arr"
   ]
  },
  {
   "cell_type": "code",
   "execution_count": 93,
   "id": "3412e2af-0312-4837-a555-36483c3dd997",
   "metadata": {},
   "outputs": [
    {
     "data": {
      "text/plain": [
       "array([ 4, 10, 18])"
      ]
     },
     "execution_count": 93,
     "metadata": {},
     "output_type": "execute_result"
    }
   ],
   "source": [
    "mul_arr= arr1*arr2 # Multiplication\n",
    "mul_arr"
   ]
  },
  {
   "cell_type": "code",
   "execution_count": 95,
   "id": "227099bf-45af-48ae-ad5b-98ac3a84ff38",
   "metadata": {},
   "outputs": [
    {
     "data": {
      "text/plain": [
       "array([1.        , 1.41421356, 1.73205081])"
      ]
     },
     "execution_count": 95,
     "metadata": {},
     "output_type": "execute_result"
    }
   ],
   "source": [
    "sqrt_arr= np.sqrt(arr1) # Square root\n",
    "sqrt_arr"
   ]
  },
  {
   "cell_type": "code",
   "execution_count": 151,
   "id": "034b052f-e095-4c73-8eda-c9a929d52e39",
   "metadata": {},
   "outputs": [
    {
     "data": {
      "text/plain": [
       "array([0, 1, 2, 3, 4, 5, 6, 7, 8, 9])"
      ]
     },
     "execution_count": 151,
     "metadata": {},
     "output_type": "execute_result"
    }
   ],
   "source": [
    "x= np.arange(0,10,1) # Range and step up\n",
    "x"
   ]
  },
  {
   "cell_type": "code",
   "execution_count": 103,
   "id": "285bd9ff-2b78-4d3c-8917-0a313872c066",
   "metadata": {},
   "outputs": [
    {
     "name": "stdout",
     "output_type": "stream",
     "text": [
      "original array:\n",
      "[[1 2 3]\n",
      " [4 5 6]]\n",
      "add 10 to each element:\n",
      "[[11 12 13]\n",
      " [14 15 16]]\n"
     ]
    }
   ],
   "source": [
    "arr6= np.array([[1,2,3],[4,5,6]])\n",
    "print(\"original array:\")\n",
    "print(arr6)\n",
    "print(\"add 10 to each element:\")\n",
    "print(arr6+10)"
   ]
  },
  {
   "cell_type": "code",
   "execution_count": 105,
   "id": "83d75e51-bcb9-4bd0-b95e-297a579919ec",
   "metadata": {},
   "outputs": [
    {
     "name": "stdout",
     "output_type": "stream",
     "text": [
      "element at row 1, column 2: 6\n"
     ]
    }
   ],
   "source": [
    "print(\"element at row 1, column 2:\",arr6[1,2]) #Slicing"
   ]
  },
  {
   "cell_type": "code",
   "execution_count": 117,
   "id": "7aebf09b-cd73-4a6b-953c-6fa936dcc8dd",
   "metadata": {},
   "outputs": [
    {
     "name": "stdout",
     "output_type": "stream",
     "text": [
      "1st row: [1 2 3]\n"
     ]
    }
   ],
   "source": [
    "print(\"1st row:\",arr6[0,:])"
   ]
  },
  {
   "cell_type": "code",
   "execution_count": 121,
   "id": "e13f1d3e-c46e-4f7d-b1f5-73122bb87056",
   "metadata": {},
   "outputs": [
    {
     "name": "stdout",
     "output_type": "stream",
     "text": [
      "1st row: [4 5 6]\n"
     ]
    }
   ],
   "source": [
    "print(\"1st row:\",arr6[1,:])"
   ]
  },
  {
   "cell_type": "code",
   "execution_count": 123,
   "id": "21033266-34d7-4b13-8752-c5ebbe69dde9",
   "metadata": {},
   "outputs": [
    {
     "data": {
      "text/plain": [
       "5"
      ]
     },
     "execution_count": 123,
     "metadata": {},
     "output_type": "execute_result"
    }
   ],
   "source": [
    "arr6[1,1] # To find value 5"
   ]
  },
  {
   "cell_type": "code",
   "execution_count": 129,
   "id": "4c8da147-0ce3-4314-abf7-340b27653def",
   "metadata": {},
   "outputs": [
    {
     "data": {
      "text/plain": [
       "array([3, 6])"
      ]
     },
     "execution_count": 129,
     "metadata": {},
     "output_type": "execute_result"
    }
   ],
   "source": [
    "arr6[:,2]"
   ]
  },
  {
   "cell_type": "code",
   "execution_count": 133,
   "id": "928859a7-4405-45d0-9fb8-71a3d4896460",
   "metadata": {},
   "outputs": [
    {
     "data": {
      "text/plain": [
       "array([ 0,  1,  2,  3,  4,  5,  6,  7,  8,  9, 10, 11])"
      ]
     },
     "execution_count": 133,
     "metadata": {},
     "output_type": "execute_result"
    }
   ],
   "source": [
    "arr8= np.arange(12)\n",
    "arr8"
   ]
  },
  {
   "cell_type": "code",
   "execution_count": 137,
   "id": "46ea93f8-4c1d-4a04-82e1-6846768b24a8",
   "metadata": {},
   "outputs": [
    {
     "data": {
      "text/plain": [
       "array([[ 0,  1,  2,  3],\n",
       "       [ 4,  5,  6,  7],\n",
       "       [ 8,  9, 10, 11]])"
      ]
     },
     "execution_count": 137,
     "metadata": {},
     "output_type": "execute_result"
    }
   ],
   "source": [
    "reshaped= arr8.reshape(3,4) # Reshape\n",
    "reshaped"
   ]
  },
  {
   "cell_type": "code",
   "execution_count": 139,
   "id": "22e811c4-5dde-40d9-b941-79e0306c5dae",
   "metadata": {},
   "outputs": [
    {
     "data": {
      "text/plain": [
       "array([[ 0,  1,  2,  3],\n",
       "       [ 4,  5,  6,  7],\n",
       "       [ 8,  9, 10, 11]])"
      ]
     },
     "execution_count": 139,
     "metadata": {},
     "output_type": "execute_result"
    }
   ],
   "source": [
    "reshaped1= arr8.reshape(3,4)\n",
    "reshaped1"
   ]
  },
  {
   "cell_type": "code",
   "execution_count": 141,
   "id": "f1e718e3-2517-40ff-b65d-ac523d4e8488",
   "metadata": {},
   "outputs": [
    {
     "ename": "ValueError",
     "evalue": "cannot reshape array of size 12 into shape (2,2)",
     "output_type": "error",
     "traceback": [
      "\u001b[1;31m---------------------------------------------------------------------------\u001b[0m",
      "\u001b[1;31mValueError\u001b[0m                                Traceback (most recent call last)",
      "Cell \u001b[1;32mIn[141], line 1\u001b[0m\n\u001b[1;32m----> 1\u001b[0m reshaped2\u001b[38;5;241m=\u001b[39m arr8\u001b[38;5;241m.\u001b[39mreshape(\u001b[38;5;241m2\u001b[39m,\u001b[38;5;241m2\u001b[39m)\n",
      "\u001b[1;31mValueError\u001b[0m: cannot reshape array of size 12 into shape (2,2)"
     ]
    }
   ],
   "source": [
    "reshaped2= arr8.reshape(2,2) "
   ]
  },
  {
   "cell_type": "code",
   "execution_count": 143,
   "id": "0cf44df6-c251-4afc-9c5f-6d32d2ce4313",
   "metadata": {},
   "outputs": [
    {
     "name": "stdout",
     "output_type": "stream",
     "text": [
      "Matrix multiplication:\n",
      "[[19 22]\n",
      " [43 50]]\n"
     ]
    }
   ],
   "source": [
    "# Matrix Multiplication\n",
    "a= np.array([[1,2],[3,4]])\n",
    "b= np.array([[5,6],[7,8]])\n",
    "print(\"Matrix multiplication:\")\n",
    "print(np.dot(a,b))"
   ]
  },
  {
   "cell_type": "code",
   "execution_count": 145,
   "id": "7bf7591e-b00e-413d-ad5f-acfe59096974",
   "metadata": {},
   "outputs": [
    {
     "name": "stdout",
     "output_type": "stream",
     "text": [
      "Random 3*3 array:\n",
      "[[ 3  2  6]\n",
      " [11 11  8]\n",
      " [ 9 10  1]]\n"
     ]
    }
   ],
   "source": [
    "random_arr=np.random.randint(1,12,(3,3)) # Random array\n",
    "print('Random 3*3 array:')\n",
    "print(random_arr)\n"
   ]
  },
  {
   "cell_type": "code",
   "execution_count": 149,
   "id": "25e73d37-aaa5-49d2-89a1-09a60b1dc88d",
   "metadata": {},
   "outputs": [
    {
     "name": "stdout",
     "output_type": "stream",
     "text": [
      "[[0.99796646 0.10335306 0.872625  ]\n",
      " [0.9262124  0.38291835 0.95930132]\n",
      " [0.45164194 0.15163469 0.78343665]]\n"
     ]
    }
   ],
   "source": [
    "random_arr1=np.random.rand(3,3)\n",
    "print(random_arr1)"
   ]
  },
  {
   "cell_type": "code",
   "execution_count": 7,
   "id": "dfacfa28-62f6-4361-b634-5e3cfddb88b5",
   "metadata": {},
   "outputs": [
    {
     "data": {
      "text/plain": [
       "array([[113, 961, 496, 412,  70],\n",
       "       [531, 692, 697, 646, 746],\n",
       "       [823, 662, 586, 757, 194],\n",
       "       [906,  95, 621, 154, 811],\n",
       "       [398, 753, 873, 626, 469]])"
      ]
     },
     "execution_count": 7,
     "metadata": {},
     "output_type": "execute_result"
    }
   ],
   "source": [
    "y = np.random.randint(1, 1000, (5, 5))   # To create new dataset\n",
    "y "
   ]
  },
  {
   "cell_type": "code",
   "execution_count": 5,
   "id": "d36adf8b-62fa-4cfd-a39e-bd5c4287c755",
   "metadata": {},
   "outputs": [],
   "source": [
    "import numpy as np "
   ]
  },
  {
   "cell_type": "code",
   "execution_count": 9,
   "id": "b41a965d-5a50-478c-ba88-85ce27932daa",
   "metadata": {},
   "outputs": [
    {
     "data": {
      "text/plain": [
       "array([[682,  98, 227, 511, 765],\n",
       "       [526, 369, 188, 521, 990],\n",
       "       [859, 426, 142, 410, 860],\n",
       "       [178, 956, 182, 504, 530],\n",
       "       [567, 736, 146, 468, 485]])"
      ]
     },
     "execution_count": 9,
     "metadata": {},
     "output_type": "execute_result"
    }
   ],
   "source": [
    "y1 = np.random.randint(2, 1000, (5, 5)) \n",
    "y1"
   ]
  },
  {
   "cell_type": "code",
   "execution_count": 11,
   "id": "973ccda3-ee67-482b-8f4f-658c7426aba6",
   "metadata": {},
   "outputs": [
    {
     "data": {
      "text/plain": [
       "46.0"
      ]
     },
     "execution_count": 11,
     "metadata": {},
     "output_type": "execute_result"
    }
   ],
   "source": [
    "c = 45.57                       # To round off value\n",
    "res = np.round(c)\n",
    "res"
   ]
  },
  {
   "cell_type": "code",
   "execution_count": 13,
   "id": "fec11a26-eb0c-42d5-9a6d-e17edcf996d7",
   "metadata": {},
   "outputs": [
    {
     "data": {
      "text/plain": [
       "45.0"
      ]
     },
     "execution_count": 13,
     "metadata": {},
     "output_type": "execute_result"
    }
   ],
   "source": [
    "e = 45.56     \n",
    "res1 = np.floor(e)\n",
    "res1"
   ]
  },
  {
   "cell_type": "code",
   "execution_count": 15,
   "id": "31302abd-9c86-42b4-bd93-ba234a21281f",
   "metadata": {},
   "outputs": [
    {
     "data": {
      "text/plain": [
       "46.0"
      ]
     },
     "execution_count": 15,
     "metadata": {},
     "output_type": "execute_result"
    }
   ],
   "source": [
    "d = 45.01\n",
    "np.ceil(d)"
   ]
  }
 ],
 "metadata": {
  "kernelspec": {
   "display_name": "Python 3 (ipykernel)",
   "language": "python",
   "name": "python3"
  },
  "language_info": {
   "codemirror_mode": {
    "name": "ipython",
    "version": 3
   },
   "file_extension": ".py",
   "mimetype": "text/x-python",
   "name": "python",
   "nbconvert_exporter": "python",
   "pygments_lexer": "ipython3",
   "version": "3.12.4"
  }
 },
 "nbformat": 4,
 "nbformat_minor": 5
}
