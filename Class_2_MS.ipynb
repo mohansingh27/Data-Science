{
 "cells": [
  {
   "cell_type": "markdown",
   "id": "f0fad575-704a-4708-9c61-c487f24df273",
   "metadata": {},
   "source": [
    "# This is my first notebook"
   ]
  },
  {
   "cell_type": "code",
   "execution_count": 1,
   "id": "e9d4c689-4581-4181-bee5-2fe7445719ad",
   "metadata": {},
   "outputs": [
    {
     "name": "stdout",
     "output_type": "stream",
     "text": [
      "hello world\n"
     ]
    }
   ],
   "source": [
    "print('hello world')"
   ]
  },
  {
   "cell_type": "markdown",
   "id": "fa18665d-447b-43fa-9700-f992276492ba",
   "metadata": {},
   "source": [
    "## my first class"
   ]
  },
  {
   "cell_type": "code",
   "execution_count": 1,
   "id": "a8e7bfeb-5511-472e-98be-19852d9dcc0f",
   "metadata": {},
   "outputs": [
    {
     "data": {
      "text/plain": [
       "23"
      ]
     },
     "execution_count": 1,
     "metadata": {},
     "output_type": "execute_result"
    }
   ],
   "source": [
    "a= 23\n",
    "a"
   ]
  },
  {
   "cell_type": "code",
   "execution_count": 5,
   "id": "8f018d31-f1f4-483c-acb9-c9a120dba95b",
   "metadata": {},
   "outputs": [
    {
     "name": "stdout",
     "output_type": "stream",
     "text": [
      "0x7fffcf463c78\n"
     ]
    }
   ],
   "source": [
    "print(hex(id(a)))"
   ]
  },
  {
   "cell_type": "code",
   "execution_count": 107,
   "id": "acb21621-dce8-496f-941e-cb6f4be93132",
   "metadata": {},
   "outputs": [
    {
     "name": "stdout",
     "output_type": "stream",
     "text": [
      "<class 'str'>\n"
     ]
    }
   ],
   "source": [
    "b= 5.9\n",
    "print(type(str(b)))"
   ]
  },
  {
   "cell_type": "code",
   "execution_count": 115,
   "id": "93c5d522-a84c-4ab5-87e4-d8d9642b9b84",
   "metadata": {},
   "outputs": [
    {
     "name": "stdout",
     "output_type": "stream",
     "text": [
      "<class 'int'>\n"
     ]
    }
   ],
   "source": [
    "ab= \n",
    "print(type(int(ab)))"
   ]
  },
  {
   "cell_type": "code",
   "execution_count": 9,
   "id": "91dc5aae-38b1-46e8-859d-97e85d1ab54a",
   "metadata": {},
   "outputs": [],
   "source": [
    "# B is a string"
   ]
  },
  {
   "cell_type": "code",
   "execution_count": 11,
   "id": "b55edd97-5f00-4939-bdb1-7874d6477b89",
   "metadata": {},
   "outputs": [
    {
     "name": "stdout",
     "output_type": "stream",
     "text": [
      "<class 'str'>\n"
     ]
    }
   ],
   "source": [
    "print(type(b))"
   ]
  },
  {
   "cell_type": "code",
   "execution_count": 15,
   "id": "aa497495-5923-45db-81ff-712fdc5aba0d",
   "metadata": {},
   "outputs": [
    {
     "name": "stdout",
     "output_type": "stream",
     "text": [
      "<class 'int'>\n"
     ]
    }
   ],
   "source": [
    "C= 47669\n",
    "print(type(C))"
   ]
  },
  {
   "cell_type": "code",
   "execution_count": 17,
   "id": "d285dc82-c6cb-46c8-afcf-47947148a94d",
   "metadata": {},
   "outputs": [
    {
     "data": {
      "text/plain": [
       "float"
      ]
     },
     "execution_count": 17,
     "metadata": {},
     "output_type": "execute_result"
    }
   ],
   "source": [
    "D= 587.87\n",
    "type(D)"
   ]
  },
  {
   "cell_type": "code",
   "execution_count": 117,
   "id": "fa506eca-60da-4aca-a3b3-a7bf6d575538",
   "metadata": {},
   "outputs": [
    {
     "data": {
      "text/plain": [
       "float"
      ]
     },
     "execution_count": 117,
     "metadata": {},
     "output_type": "execute_result"
    }
   ],
   "source": [
    "AD=76578.767\n",
    "type(AD)"
   ]
  },
  {
   "cell_type": "code",
   "execution_count": 21,
   "id": "63496c59-29df-4cd7-9522-96c3c56f33b0",
   "metadata": {},
   "outputs": [
    {
     "data": {
      "text/plain": [
       "bool"
      ]
     },
     "execution_count": 21,
     "metadata": {},
     "output_type": "execute_result"
    }
   ],
   "source": [
    "E= False\n",
    "type(E)"
   ]
  },
  {
   "cell_type": "code",
   "execution_count": 23,
   "id": "e7ae230a-33f1-438d-882d-02249995d749",
   "metadata": {},
   "outputs": [
    {
     "name": "stdout",
     "output_type": "stream",
     "text": [
      "587\n"
     ]
    }
   ],
   "source": [
    "# Type casting\n",
    "D= 587.87\n",
    "print(int(D))"
   ]
  },
  {
   "cell_type": "code",
   "execution_count": 33,
   "id": "4d31c1f2-a929-4bdc-9f9b-c1e3557d4b48",
   "metadata": {},
   "outputs": [
    {
     "data": {
      "text/plain": [
       "'204'"
      ]
     },
     "execution_count": 33,
     "metadata": {},
     "output_type": "execute_result"
    }
   ],
   "source": [
    "# Strip Method\n",
    "\n",
    "F= \"204B\"\n",
    "G= F.rstrip('B')\n",
    "G"
   ]
  },
  {
   "cell_type": "code",
   "execution_count": 35,
   "id": "55536bba-eb20-4330-8a8d-0243bdc0c18a",
   "metadata": {},
   "outputs": [
    {
     "data": {
      "text/plain": [
       "'6545878'"
      ]
     },
     "execution_count": 35,
     "metadata": {},
     "output_type": "execute_result"
    }
   ],
   "source": [
    "H= 'M6545878'\n",
    "I= H.lstrip('M')\n",
    "I"
   ]
  },
  {
   "cell_type": "code",
   "execution_count": 39,
   "id": "4629f42d-0de1-46c0-a30a-8804233cb18e",
   "metadata": {},
   "outputs": [
    {
     "data": {
      "text/plain": [
       "False"
      ]
     },
     "execution_count": 39,
     "metadata": {},
     "output_type": "execute_result"
    }
   ],
   "source": [
    "# Comparison Operators\n",
    "\n",
    "j= 5\n",
    "k= 6\n",
    "j==k"
   ]
  },
  {
   "cell_type": "code",
   "execution_count": 41,
   "id": "bb1d2cb2-c756-40ed-a2df-92daa20a6b4b",
   "metadata": {},
   "outputs": [
    {
     "data": {
      "text/plain": [
       "True"
      ]
     },
     "execution_count": 41,
     "metadata": {},
     "output_type": "execute_result"
    }
   ],
   "source": [
    "j<k"
   ]
  },
  {
   "cell_type": "code",
   "execution_count": 43,
   "id": "c80a6b47-c071-4380-a2ff-4ce012bdacb0",
   "metadata": {},
   "outputs": [
    {
     "data": {
      "text/plain": [
       "True"
      ]
     },
     "execution_count": 43,
     "metadata": {},
     "output_type": "execute_result"
    }
   ],
   "source": [
    "k>j"
   ]
  },
  {
   "cell_type": "code",
   "execution_count": 45,
   "id": "3e8d775e-8481-4861-bab5-91fcff79b3d6",
   "metadata": {},
   "outputs": [
    {
     "data": {
      "text/plain": [
       "False"
      ]
     },
     "execution_count": 45,
     "metadata": {},
     "output_type": "execute_result"
    }
   ],
   "source": [
    "j>k"
   ]
  },
  {
   "cell_type": "code",
   "execution_count": 49,
   "id": "a780b647-45d3-42bb-b460-c7f518bd36cd",
   "metadata": {},
   "outputs": [
    {
     "data": {
      "text/plain": [
       "True"
      ]
     },
     "execution_count": 49,
     "metadata": {},
     "output_type": "execute_result"
    }
   ],
   "source": [
    "j<=k"
   ]
  },
  {
   "cell_type": "code",
   "execution_count": 51,
   "id": "913402b8-9e37-4ba8-ae86-4243a0652efa",
   "metadata": {},
   "outputs": [
    {
     "data": {
      "text/plain": [
       "False"
      ]
     },
     "execution_count": 51,
     "metadata": {},
     "output_type": "execute_result"
    }
   ],
   "source": [
    "j>=k"
   ]
  },
  {
   "cell_type": "code",
   "execution_count": 57,
   "id": "6575d7f5-e77f-4a1d-b660-ec8aae01485e",
   "metadata": {},
   "outputs": [
    {
     "data": {
      "text/plain": [
       "False"
      ]
     },
     "execution_count": 57,
     "metadata": {},
     "output_type": "execute_result"
    }
   ],
   "source": [
    "# Logical Operators\n",
    "\n",
    "L= True\n",
    "M= False\n",
    "L and M"
   ]
  },
  {
   "cell_type": "code",
   "execution_count": 59,
   "id": "8faa46c9-9c2b-4edf-8849-1b679fb1ee67",
   "metadata": {},
   "outputs": [
    {
     "data": {
      "text/plain": [
       "True"
      ]
     },
     "execution_count": 59,
     "metadata": {},
     "output_type": "execute_result"
    }
   ],
   "source": [
    "L or M"
   ]
  },
  {
   "cell_type": "code",
   "execution_count": 63,
   "id": "9d2b5610-9ba3-40d2-a9dc-fdea9cb76a43",
   "metadata": {},
   "outputs": [
    {
     "data": {
      "text/plain": [
       "True"
      ]
     },
     "execution_count": 63,
     "metadata": {},
     "output_type": "execute_result"
    }
   ],
   "source": [
    "not(L and M)"
   ]
  },
  {
   "cell_type": "code",
   "execution_count": 67,
   "id": "f1ac098c-7b1d-47d7-bd49-3ad17a5d14ad",
   "metadata": {},
   "outputs": [
    {
     "data": {
      "text/plain": [
       "7"
      ]
     },
     "execution_count": 67,
     "metadata": {},
     "output_type": "execute_result"
    }
   ],
   "source": [
    "# Assignment Operators\n",
    "\n",
    "N= 3\n",
    "O= 4\n",
    "P= N+O\n",
    "P"
   ]
  },
  {
   "cell_type": "code",
   "execution_count": 71,
   "id": "e25e2364-6f29-400e-b3b1-132951fd661f",
   "metadata": {},
   "outputs": [
    {
     "data": {
      "text/plain": [
       "7"
      ]
     },
     "execution_count": 71,
     "metadata": {},
     "output_type": "execute_result"
    }
   ],
   "source": [
    "Q= N+4\n",
    "Q"
   ]
  },
  {
   "cell_type": "code",
   "execution_count": 75,
   "id": "e4c72751-942d-4c9e-b287-2f4b37c307f6",
   "metadata": {},
   "outputs": [
    {
     "data": {
      "text/plain": [
       "8"
      ]
     },
     "execution_count": 75,
     "metadata": {},
     "output_type": "execute_result"
    }
   ],
   "source": [
    "N=N+5\n",
    "N\n"
   ]
  },
  {
   "cell_type": "code",
   "execution_count": 79,
   "id": "1c678b5a-e5df-4814-ab65-05ddcbb7870c",
   "metadata": {},
   "outputs": [
    {
     "data": {
      "text/plain": [
       "12"
      ]
     },
     "execution_count": 79,
     "metadata": {},
     "output_type": "execute_result"
    }
   ],
   "source": [
    "N+=2\n",
    "N"
   ]
  },
  {
   "cell_type": "code",
   "execution_count": 81,
   "id": "cdecaff4-cbf6-4294-b875-c853189023d7",
   "metadata": {},
   "outputs": [
    {
     "data": {
      "text/plain": [
       "7"
      ]
     },
     "execution_count": 81,
     "metadata": {},
     "output_type": "execute_result"
    }
   ],
   "source": [
    "S= 5\n",
    "S+=2\n",
    "S"
   ]
  },
  {
   "cell_type": "code",
   "execution_count": 85,
   "id": "cd27c09c-f372-4695-9eae-46060375b4c4",
   "metadata": {},
   "outputs": [
    {
     "data": {
      "text/plain": [
       "200"
      ]
     },
     "execution_count": 85,
     "metadata": {},
     "output_type": "execute_result"
    }
   ],
   "source": [
    "T=204\n",
    "T-=4\n",
    "T"
   ]
  },
  {
   "cell_type": "code",
   "execution_count": 89,
   "id": "545c0b15-fd5a-45cd-901e-4883089cb52f",
   "metadata": {},
   "outputs": [
    {
     "data": {
      "text/plain": [
       "0.8571428571428571"
      ]
     },
     "execution_count": 89,
     "metadata": {},
     "output_type": "execute_result"
    }
   ],
   "source": [
    "U= 6\n",
    "V= 7\n",
    "W= U/V\n",
    "W"
   ]
  },
  {
   "cell_type": "code",
   "execution_count": 95,
   "id": "822746da-5e89-4a1f-a2a3-9fc630a18203",
   "metadata": {},
   "outputs": [
    {
     "data": {
      "text/plain": [
       "0"
      ]
     },
     "execution_count": 95,
     "metadata": {},
     "output_type": "execute_result"
    }
   ],
   "source": [
    "x= U//V\n",
    "x"
   ]
  },
  {
   "cell_type": "code",
   "execution_count": 97,
   "id": "6dc4ffe3-a5b4-4ebb-b035-bcc2436a6fe4",
   "metadata": {},
   "outputs": [
    {
     "data": {
      "text/plain": [
       "6"
      ]
     },
     "execution_count": 97,
     "metadata": {},
     "output_type": "execute_result"
    }
   ],
   "source": [
    "y= U%V\n",
    "y"
   ]
  },
  {
   "cell_type": "code",
   "execution_count": 5,
   "id": "65306223-1f0d-4040-95b2-558c03560527",
   "metadata": {},
   "outputs": [
    {
     "ename": "SyntaxError",
     "evalue": "invalid syntax (1356235417.py, line 1)",
     "output_type": "error",
     "traceback": [
      "\u001b[1;36m  Cell \u001b[1;32mIn[5], line 1\u001b[1;36m\u001b[0m\n\u001b[1;33m    arithmatic operators + - / // %\u001b[0m\n\u001b[1;37m               ^\u001b[0m\n\u001b[1;31mSyntaxError\u001b[0m\u001b[1;31m:\u001b[0m invalid syntax\n"
     ]
    }
   ],
   "source": [
    "arithmatic operators + - / // %\n",
    "logical operators and not or\n",
    "assignment operators a = 3 a = a + 2 > a += 2\n",
    "comparison oeprators == > < >= <= !=\n",
    "list \n",
    "array"
   ]
  },
  {
   "cell_type": "code",
   "execution_count": 3,
   "id": "71988954-80c2-4675-9024-728d0f84de61",
   "metadata": {},
   "outputs": [
    {
     "ename": "NameError",
     "evalue": "name 'array' is not defined",
     "output_type": "error",
     "traceback": [
      "\u001b[1;31m---------------------------------------------------------------------------\u001b[0m",
      "\u001b[1;31mNameError\u001b[0m                                 Traceback (most recent call last)",
      "Cell \u001b[1;32mIn[3], line 1\u001b[0m\n\u001b[1;32m----> 1\u001b[0m \u001b[38;5;28mdir\u001b[39m(array)\n",
      "\u001b[1;31mNameError\u001b[0m: name 'array' is not defined"
     ]
    }
   ],
   "source": [
    "dir(array)"
   ]
  },
  {
   "cell_type": "code",
   "execution_count": 7,
   "id": "bde092f9-e244-4b1d-b41e-d15c8acfee0e",
   "metadata": {},
   "outputs": [
    {
     "data": {
      "text/plain": [
       "['__add__',\n",
       " '__class__',\n",
       " '__class_getitem__',\n",
       " '__contains__',\n",
       " '__delattr__',\n",
       " '__delitem__',\n",
       " '__dir__',\n",
       " '__doc__',\n",
       " '__eq__',\n",
       " '__format__',\n",
       " '__ge__',\n",
       " '__getattribute__',\n",
       " '__getitem__',\n",
       " '__getstate__',\n",
       " '__gt__',\n",
       " '__hash__',\n",
       " '__iadd__',\n",
       " '__imul__',\n",
       " '__init__',\n",
       " '__init_subclass__',\n",
       " '__iter__',\n",
       " '__le__',\n",
       " '__len__',\n",
       " '__lt__',\n",
       " '__mul__',\n",
       " '__ne__',\n",
       " '__new__',\n",
       " '__reduce__',\n",
       " '__reduce_ex__',\n",
       " '__repr__',\n",
       " '__reversed__',\n",
       " '__rmul__',\n",
       " '__setattr__',\n",
       " '__setitem__',\n",
       " '__sizeof__',\n",
       " '__str__',\n",
       " '__subclasshook__',\n",
       " 'append',\n",
       " 'clear',\n",
       " 'copy',\n",
       " 'count',\n",
       " 'extend',\n",
       " 'index',\n",
       " 'insert',\n",
       " 'pop',\n",
       " 'remove',\n",
       " 'reverse',\n",
       " 'sort']"
      ]
     },
     "execution_count": 7,
     "metadata": {},
     "output_type": "execute_result"
    }
   ],
   "source": [
    "dir(list)"
   ]
  },
  {
   "cell_type": "code",
   "execution_count": 11,
   "id": "d98840bb-c932-43ed-b447-94d96d2f1599",
   "metadata": {},
   "outputs": [
    {
     "data": {
      "text/plain": [
       "list"
      ]
     },
     "execution_count": 11,
     "metadata": {},
     "output_type": "execute_result"
    }
   ],
   "source": [
    "a= [24,27,45,36]\n",
    "type(a)"
   ]
  },
  {
   "cell_type": "code",
   "execution_count": 21,
   "id": "cf7c3afa-4ec4-4343-8e91-c20131bf9e1c",
   "metadata": {},
   "outputs": [
    {
     "ename": "NameError",
     "evalue": "name 'Mysore' is not defined",
     "output_type": "error",
     "traceback": [
      "\u001b[1;31m---------------------------------------------------------------------------\u001b[0m",
      "\u001b[1;31mNameError\u001b[0m                                 Traceback (most recent call last)",
      "Cell \u001b[1;32mIn[21], line 1\u001b[0m\n\u001b[1;32m----> 1\u001b[0m b\u001b[38;5;241m=\u001b[39m [\u001b[38;5;241m24\u001b[39m,\u001b[38;5;241m27\u001b[39m,\u001b[38;5;241m45\u001b[39m,\u001b[38;5;241m36\u001b[39m,Mysore,\u001b[38;5;241m2675.78\u001b[39m,Bangalore]\n\u001b[0;32m      2\u001b[0m \u001b[38;5;28mtype\u001b[39m(b)\n",
      "\u001b[1;31mNameError\u001b[0m: name 'Mysore' is not defined"
     ]
    }
   ],
   "source": [
    "b= [24,27,45,36,Mysore,2675.78,Bangalore]\n",
    "type(b)"
   ]
  },
  {
   "cell_type": "code",
   "execution_count": 33,
   "id": "758eed14-5d5a-4980-8f76-93da4c97ab14",
   "metadata": {},
   "outputs": [
    {
     "data": {
      "text/plain": [
       "['Mysuru', 'Mandya', 'Bengaluru', 45, 140, 76.78]"
      ]
     },
     "execution_count": 33,
     "metadata": {},
     "output_type": "execute_result"
    }
   ],
   "source": [
    "city = ['Mysuru', 'Mandya', 'Bengaluru', 45, 140, 76.78]\n",
    "city"
   ]
  },
  {
   "cell_type": "code",
   "execution_count": 25,
   "id": "11a5bc49-d35b-4f1f-9b04-a54e55125091",
   "metadata": {},
   "outputs": [
    {
     "data": {
      "text/plain": [
       "list"
      ]
     },
     "execution_count": 25,
     "metadata": {},
     "output_type": "execute_result"
    }
   ],
   "source": [
    "type(city)\n"
   ]
  },
  {
   "cell_type": "code",
   "execution_count": 37,
   "id": "5719c1ba-2fc5-4e56-896e-e58ebdc36501",
   "metadata": {},
   "outputs": [],
   "source": [
    "city.append('hassan')"
   ]
  },
  {
   "cell_type": "code",
   "execution_count": 39,
   "id": "3eba273b-d19c-4452-8d50-a11b0ce0fdcb",
   "metadata": {},
   "outputs": [
    {
     "data": {
      "text/plain": [
       "['Mysuru', 'Mandya', 'Bengaluru', 45, 140, 76.78, 'hassan']"
      ]
     },
     "execution_count": 39,
     "metadata": {},
     "output_type": "execute_result"
    }
   ],
   "source": [
    "city"
   ]
  },
  {
   "cell_type": "code",
   "execution_count": 41,
   "id": "05e837fe-43fe-4b0a-a61c-579b26211bd4",
   "metadata": {},
   "outputs": [
    {
     "data": {
      "text/plain": [
       "1"
      ]
     },
     "execution_count": 41,
     "metadata": {},
     "output_type": "execute_result"
    }
   ],
   "source": [
    "city.count(140)"
   ]
  },
  {
   "cell_type": "code",
   "execution_count": 45,
   "id": "49619020-3dc5-4083-aa09-749cfda39acc",
   "metadata": {},
   "outputs": [],
   "source": [
    "D= ['Anup','Ranjan']\n",
    "city.extend(D)"
   ]
  },
  {
   "cell_type": "code",
   "execution_count": 47,
   "id": "dbcc838a-6397-4c38-b264-1e4e79997ac0",
   "metadata": {},
   "outputs": [
    {
     "data": {
      "text/plain": [
       "['Mysuru',\n",
       " 'Mandya',\n",
       " 'Bengaluru',\n",
       " 45,\n",
       " 140,\n",
       " 76.78,\n",
       " 'hassan',\n",
       " 'Anup',\n",
       " 'Ranjan',\n",
       " 'Anup',\n",
       " 'Ranjan']"
      ]
     },
     "execution_count": 47,
     "metadata": {},
     "output_type": "execute_result"
    }
   ],
   "source": [
    "city"
   ]
  },
  {
   "cell_type": "code",
   "execution_count": 51,
   "id": "63c81384-26e9-4d09-b445-06239c0957f2",
   "metadata": {},
   "outputs": [],
   "source": [
    "city.insert(0,'America')"
   ]
  },
  {
   "cell_type": "code",
   "execution_count": 53,
   "id": "d826596f-840f-40b5-929d-ed81ab5690c3",
   "metadata": {},
   "outputs": [
    {
     "data": {
      "text/plain": [
       "['America',\n",
       " 'Mysuru',\n",
       " 'Mandya',\n",
       " 'Bengaluru',\n",
       " 45,\n",
       " 140,\n",
       " 76.78,\n",
       " 'hassan',\n",
       " 'Anup',\n",
       " 'Ranjan',\n",
       " 'Anup',\n",
       " 'Ranjan']"
      ]
     },
     "execution_count": 53,
     "metadata": {},
     "output_type": "execute_result"
    }
   ],
   "source": [
    "city"
   ]
  },
  {
   "cell_type": "code",
   "execution_count": 63,
   "id": "71ec744e-dc47-4d64-ace6-316a441f6b93",
   "metadata": {},
   "outputs": [
    {
     "data": {
      "text/plain": [
       "76.78"
      ]
     },
     "execution_count": 63,
     "metadata": {},
     "output_type": "execute_result"
    }
   ],
   "source": [
    "city.pop(6)"
   ]
  },
  {
   "cell_type": "code",
   "execution_count": 65,
   "id": "a9beb256-c0f9-4b00-863d-6337c7c70178",
   "metadata": {},
   "outputs": [
    {
     "data": {
      "text/plain": [
       "['America',\n",
       " 'Mysuru',\n",
       " 'Mandya',\n",
       " 'Bengaluru',\n",
       " 45,\n",
       " 140,\n",
       " 'hassan',\n",
       " 'Anup',\n",
       " 'Ranjan',\n",
       " 'Anup',\n",
       " 'Ranjan']"
      ]
     },
     "execution_count": 65,
     "metadata": {},
     "output_type": "execute_result"
    }
   ],
   "source": [
    "city"
   ]
  },
  {
   "cell_type": "code",
   "execution_count": 69,
   "id": "35c1fda9-15e7-40af-bbfe-98280d752aa4",
   "metadata": {},
   "outputs": [],
   "source": [
    "city.remove('Anup')"
   ]
  },
  {
   "cell_type": "code",
   "execution_count": 71,
   "id": "5f4b00a0-cb5b-4bbd-9071-a556ee1e4d83",
   "metadata": {},
   "outputs": [
    {
     "data": {
      "text/plain": [
       "['America',\n",
       " 'Mysuru',\n",
       " 'Mandya',\n",
       " 'Bengaluru',\n",
       " 45,\n",
       " 140,\n",
       " 'hassan',\n",
       " 'Ranjan',\n",
       " 'Anup',\n",
       " 'Ranjan']"
      ]
     },
     "execution_count": 71,
     "metadata": {},
     "output_type": "execute_result"
    }
   ],
   "source": [
    "city"
   ]
  },
  {
   "cell_type": "code",
   "execution_count": 73,
   "id": "f588504f-b80a-49d3-8007-e208f8f55503",
   "metadata": {},
   "outputs": [
    {
     "data": {
      "text/plain": [
       "'Ranjan'"
      ]
     },
     "execution_count": 73,
     "metadata": {},
     "output_type": "execute_result"
    }
   ],
   "source": [
    "city.pop(7)"
   ]
  },
  {
   "cell_type": "code",
   "execution_count": 75,
   "id": "d3b1ea8a-ddb3-4869-b02c-21c41f7d75d9",
   "metadata": {},
   "outputs": [
    {
     "data": {
      "text/plain": [
       "['America',\n",
       " 'Mysuru',\n",
       " 'Mandya',\n",
       " 'Bengaluru',\n",
       " 45,\n",
       " 140,\n",
       " 'hassan',\n",
       " 'Anup',\n",
       " 'Ranjan']"
      ]
     },
     "execution_count": 75,
     "metadata": {},
     "output_type": "execute_result"
    }
   ],
   "source": [
    "city"
   ]
  },
  {
   "cell_type": "code",
   "execution_count": 77,
   "id": "4cc34d2b-6c02-4747-99db-ce76abeb9760",
   "metadata": {},
   "outputs": [],
   "source": [
    "city.reverse()"
   ]
  },
  {
   "cell_type": "code",
   "execution_count": 79,
   "id": "88bb2fbf-7ac4-45f6-94fb-d1d5edf76da4",
   "metadata": {},
   "outputs": [
    {
     "data": {
      "text/plain": [
       "['Ranjan',\n",
       " 'Anup',\n",
       " 'hassan',\n",
       " 140,\n",
       " 45,\n",
       " 'Bengaluru',\n",
       " 'Mandya',\n",
       " 'Mysuru',\n",
       " 'America']"
      ]
     },
     "execution_count": 79,
     "metadata": {},
     "output_type": "execute_result"
    }
   ],
   "source": [
    "city"
   ]
  },
  {
   "cell_type": "code",
   "execution_count": 81,
   "id": "69b6eddd-c877-47c9-9006-23cfdd9bb6fe",
   "metadata": {},
   "outputs": [
    {
     "data": {
      "text/plain": [
       "[567, 68, 29, 992, 682]"
      ]
     },
     "execution_count": 81,
     "metadata": {},
     "output_type": "execute_result"
    }
   ],
   "source": [
    "abc= [567,68,29,992,682]\n",
    "abc"
   ]
  },
  {
   "cell_type": "code",
   "execution_count": 87,
   "id": "52a5d258-b634-4762-9c73-78f13d14f628",
   "metadata": {},
   "outputs": [],
   "source": [
    "abc.sort()"
   ]
  },
  {
   "cell_type": "code",
   "execution_count": 89,
   "id": "469e5b9e-48f2-412a-a728-3346ef6d2c53",
   "metadata": {},
   "outputs": [
    {
     "data": {
      "text/plain": [
       "[29, 68, 567, 682, 992]"
      ]
     },
     "execution_count": 89,
     "metadata": {},
     "output_type": "execute_result"
    }
   ],
   "source": [
    "abc"
   ]
  },
  {
   "cell_type": "code",
   "execution_count": 91,
   "id": "cabd800e-c407-42e3-9cc4-c3c83c3a3f8d",
   "metadata": {},
   "outputs": [],
   "source": [
    "abc.reverse()"
   ]
  },
  {
   "cell_type": "code",
   "execution_count": 93,
   "id": "47751098-849e-4cf9-84dd-fea238a90522",
   "metadata": {},
   "outputs": [
    {
     "data": {
      "text/plain": [
       "[992, 682, 567, 68, 29]"
      ]
     },
     "execution_count": 93,
     "metadata": {},
     "output_type": "execute_result"
    }
   ],
   "source": [
    "abc"
   ]
  },
  {
   "cell_type": "code",
   "execution_count": 95,
   "id": "b1499e26-0362-4f37-93b5-c4548f07f25b",
   "metadata": {},
   "outputs": [],
   "source": [
    "abc.clear()"
   ]
  },
  {
   "cell_type": "code",
   "execution_count": 97,
   "id": "1050ad11-3edf-4eb5-8a74-46ca22fd93ef",
   "metadata": {},
   "outputs": [
    {
     "data": {
      "text/plain": [
       "[]"
      ]
     },
     "execution_count": 97,
     "metadata": {},
     "output_type": "execute_result"
    }
   ],
   "source": [
    "abc"
   ]
  },
  {
   "cell_type": "code",
   "execution_count": 99,
   "id": "53db64c1-3f59-4e2f-940f-bdf2fdffec9a",
   "metadata": {},
   "outputs": [],
   "source": [
    "state = ('Karnataka', 'TamilNadu', 'Andhra')"
   ]
  },
  {
   "cell_type": "code",
   "execution_count": 101,
   "id": "cda4cd8d-caf4-4064-87b7-120222db30cb",
   "metadata": {},
   "outputs": [
    {
     "data": {
      "text/plain": [
       "('Karnataka', 'TamilNadu', 'Andhra')"
      ]
     },
     "execution_count": 101,
     "metadata": {},
     "output_type": "execute_result"
    }
   ],
   "source": [
    "state"
   ]
  },
  {
   "cell_type": "code",
   "execution_count": 103,
   "id": "df5b6581-fd1e-430e-b029-999c8bb3ce88",
   "metadata": {},
   "outputs": [
    {
     "data": {
      "text/plain": [
       "tuple"
      ]
     },
     "execution_count": 103,
     "metadata": {},
     "output_type": "execute_result"
    }
   ],
   "source": [
    "type(state)"
   ]
  },
  {
   "cell_type": "code",
   "execution_count": 105,
   "id": "21976322-eed9-499d-9a73-0cfe12f64dae",
   "metadata": {},
   "outputs": [
    {
     "data": {
      "text/plain": [
       "list"
      ]
     },
     "execution_count": 105,
     "metadata": {},
     "output_type": "execute_result"
    }
   ],
   "source": [
    "type(city)"
   ]
  },
  {
   "cell_type": "code",
   "execution_count": 107,
   "id": "38214c6a-8fd6-41eb-bb03-3f0cbc8373c1",
   "metadata": {},
   "outputs": [
    {
     "data": {
      "text/plain": [
       "1"
      ]
     },
     "execution_count": 107,
     "metadata": {},
     "output_type": "execute_result"
    }
   ],
   "source": [
    "state.count('Andhra')"
   ]
  },
  {
   "cell_type": "code",
   "execution_count": 109,
   "id": "96717f07-011d-4e14-8394-3327ae845542",
   "metadata": {},
   "outputs": [
    {
     "data": {
      "text/plain": [
       "2"
      ]
     },
     "execution_count": 109,
     "metadata": {},
     "output_type": "execute_result"
    }
   ],
   "source": [
    "state.index('Andhra')"
   ]
  },
  {
   "cell_type": "code",
   "execution_count": 111,
   "id": "b0f2b619-669a-46ca-913c-8dafa4710312",
   "metadata": {},
   "outputs": [],
   "source": [
    "person = {\n",
    "    \"name\":\"Ruthvik\",\n",
    "    \"age\":9,\n",
    "    \"city\":\"Mysuru\"\n",
    "}"
   ]
  },
  {
   "cell_type": "code",
   "execution_count": 113,
   "id": "54b4f4da-2015-4cc3-bdba-e0b0491ee67c",
   "metadata": {},
   "outputs": [
    {
     "data": {
      "text/plain": [
       "{'name': 'Ruthvik', 'age': 9, 'city': 'Mysuru'}"
      ]
     },
     "execution_count": 113,
     "metadata": {},
     "output_type": "execute_result"
    }
   ],
   "source": [
    "person"
   ]
  },
  {
   "cell_type": "code",
   "execution_count": 115,
   "id": "73863420-0477-4f99-af55-b0a5b775fb00",
   "metadata": {},
   "outputs": [
    {
     "data": {
      "text/plain": [
       "['__class__',\n",
       " '__class_getitem__',\n",
       " '__contains__',\n",
       " '__delattr__',\n",
       " '__delitem__',\n",
       " '__dir__',\n",
       " '__doc__',\n",
       " '__eq__',\n",
       " '__format__',\n",
       " '__ge__',\n",
       " '__getattribute__',\n",
       " '__getitem__',\n",
       " '__getstate__',\n",
       " '__gt__',\n",
       " '__hash__',\n",
       " '__init__',\n",
       " '__init_subclass__',\n",
       " '__ior__',\n",
       " '__iter__',\n",
       " '__le__',\n",
       " '__len__',\n",
       " '__lt__',\n",
       " '__ne__',\n",
       " '__new__',\n",
       " '__or__',\n",
       " '__reduce__',\n",
       " '__reduce_ex__',\n",
       " '__repr__',\n",
       " '__reversed__',\n",
       " '__ror__',\n",
       " '__setattr__',\n",
       " '__setitem__',\n",
       " '__sizeof__',\n",
       " '__str__',\n",
       " '__subclasshook__',\n",
       " 'clear',\n",
       " 'copy',\n",
       " 'fromkeys',\n",
       " 'get',\n",
       " 'items',\n",
       " 'keys',\n",
       " 'pop',\n",
       " 'popitem',\n",
       " 'setdefault',\n",
       " 'update',\n",
       " 'values']"
      ]
     },
     "execution_count": 115,
     "metadata": {},
     "output_type": "execute_result"
    }
   ],
   "source": [
    "dir(dict)"
   ]
  },
  {
   "cell_type": "code",
   "execution_count": 119,
   "id": "8b7bc721-239a-4093-97a2-ed6cb4b77774",
   "metadata": {},
   "outputs": [
    {
     "data": {
      "text/plain": [
       "9"
      ]
     },
     "execution_count": 119,
     "metadata": {},
     "output_type": "execute_result"
    }
   ],
   "source": [
    "person['age']"
   ]
  },
  {
   "cell_type": "code",
   "execution_count": 121,
   "id": "9ba23dd9-7e40-4875-91e6-6dc0af11ec61",
   "metadata": {},
   "outputs": [],
   "source": [
    "person['class']= 3"
   ]
  },
  {
   "cell_type": "code",
   "execution_count": 123,
   "id": "5250fc9e-847c-40e5-aae3-327960487791",
   "metadata": {},
   "outputs": [
    {
     "data": {
      "text/plain": [
       "{'name': 'Ruthvik', 'age': 9, 'city': 'Mysuru', 'class': 3}"
      ]
     },
     "execution_count": 123,
     "metadata": {},
     "output_type": "execute_result"
    }
   ],
   "source": [
    "person"
   ]
  },
  {
   "cell_type": "code",
   "execution_count": 129,
   "id": "2d6f494f-60e1-489b-8453-ab373228671e",
   "metadata": {},
   "outputs": [],
   "source": [
    "del person['age']"
   ]
  },
  {
   "cell_type": "code",
   "execution_count": 131,
   "id": "38685826-c9cc-47d4-b572-b5aea5bfb018",
   "metadata": {},
   "outputs": [
    {
     "data": {
      "text/plain": [
       "{'name': 'Ruthvik', 'city': 'Mysuru', 'class': 3}"
      ]
     },
     "execution_count": 131,
     "metadata": {},
     "output_type": "execute_result"
    }
   ],
   "source": [
    "person"
   ]
  },
  {
   "cell_type": "code",
   "execution_count": 133,
   "id": "93add6ab-0972-4a3b-995c-05f05a369dee",
   "metadata": {},
   "outputs": [
    {
     "name": "stdout",
     "output_type": "stream",
     "text": [
      "False\n"
     ]
    }
   ],
   "source": [
    "print('Ruthvik' in person)"
   ]
  },
  {
   "cell_type": "code",
   "execution_count": 135,
   "id": "ba08f31e-064b-403a-8c9a-926d84d86146",
   "metadata": {},
   "outputs": [
    {
     "name": "stdout",
     "output_type": "stream",
     "text": [
      "True\n"
     ]
    }
   ],
   "source": [
    "print('name' in person)"
   ]
  },
  {
   "cell_type": "code",
   "execution_count": 137,
   "id": "970b0754-7af0-4bfc-a4d7-fb382c00600f",
   "metadata": {},
   "outputs": [
    {
     "data": {
      "text/plain": [
       "{'Mango', 'grape', 'guava'}"
      ]
     },
     "execution_count": 137,
     "metadata": {},
     "output_type": "execute_result"
    }
   ],
   "source": [
    "fruits = {'Mango', 'guava', 'grape'}\n",
    "fruits"
   ]
  },
  {
   "cell_type": "code",
   "execution_count": 139,
   "id": "1ab17bf3-7faf-4921-84c9-96fd05d50f27",
   "metadata": {},
   "outputs": [
    {
     "data": {
      "text/plain": [
       "set"
      ]
     },
     "execution_count": 139,
     "metadata": {},
     "output_type": "execute_result"
    }
   ],
   "source": [
    "type(fruits)"
   ]
  },
  {
   "cell_type": "code",
   "execution_count": 143,
   "id": "be49f8d8-e07a-40d8-8eb2-409161621885",
   "metadata": {},
   "outputs": [
    {
     "data": {
      "text/plain": [
       "['Ranjan',\n",
       " 'Anup',\n",
       " 'hassan',\n",
       " 140,\n",
       " 45,\n",
       " 'Bengaluru',\n",
       " 'Mandya',\n",
       " 'Mysuru',\n",
       " 'America']"
      ]
     },
     "execution_count": 143,
     "metadata": {},
     "output_type": "execute_result"
    }
   ],
   "source": [
    "city"
   ]
  },
  {
   "cell_type": "code",
   "execution_count": 145,
   "id": "40077c56-1b17-4954-92d6-ad17c194d996",
   "metadata": {},
   "outputs": [
    {
     "data": {
      "text/plain": [
       "{'Delhi', 'Mumbai'}"
      ]
     },
     "execution_count": 145,
     "metadata": {},
     "output_type": "execute_result"
    }
   ],
   "source": [
    "states = {'Delhi', 'Delhi', 'Mumbai'}\n",
    "states"
   ]
  },
  {
   "cell_type": "code",
   "execution_count": 147,
   "id": "bc41a335-a962-4a47-94c5-e47efc41687d",
   "metadata": {},
   "outputs": [
    {
     "data": {
      "text/plain": [
       "['__and__',\n",
       " '__class__',\n",
       " '__class_getitem__',\n",
       " '__contains__',\n",
       " '__delattr__',\n",
       " '__dir__',\n",
       " '__doc__',\n",
       " '__eq__',\n",
       " '__format__',\n",
       " '__ge__',\n",
       " '__getattribute__',\n",
       " '__getstate__',\n",
       " '__gt__',\n",
       " '__hash__',\n",
       " '__iand__',\n",
       " '__init__',\n",
       " '__init_subclass__',\n",
       " '__ior__',\n",
       " '__isub__',\n",
       " '__iter__',\n",
       " '__ixor__',\n",
       " '__le__',\n",
       " '__len__',\n",
       " '__lt__',\n",
       " '__ne__',\n",
       " '__new__',\n",
       " '__or__',\n",
       " '__rand__',\n",
       " '__reduce__',\n",
       " '__reduce_ex__',\n",
       " '__repr__',\n",
       " '__ror__',\n",
       " '__rsub__',\n",
       " '__rxor__',\n",
       " '__setattr__',\n",
       " '__sizeof__',\n",
       " '__str__',\n",
       " '__sub__',\n",
       " '__subclasshook__',\n",
       " '__xor__',\n",
       " 'add',\n",
       " 'clear',\n",
       " 'copy',\n",
       " 'difference',\n",
       " 'difference_update',\n",
       " 'discard',\n",
       " 'intersection',\n",
       " 'intersection_update',\n",
       " 'isdisjoint',\n",
       " 'issubset',\n",
       " 'issuperset',\n",
       " 'pop',\n",
       " 'remove',\n",
       " 'symmetric_difference',\n",
       " 'symmetric_difference_update',\n",
       " 'union',\n",
       " 'update']"
      ]
     },
     "execution_count": 147,
     "metadata": {},
     "output_type": "execute_result"
    }
   ],
   "source": [
    "dir(set)"
   ]
  },
  {
   "cell_type": "code",
   "execution_count": 149,
   "id": "7ad27732-e159-49bb-908e-02433e16f22d",
   "metadata": {},
   "outputs": [
    {
     "data": {
      "text/plain": [
       "{'Delhi', 'Mumbai'}"
      ]
     },
     "execution_count": 149,
     "metadata": {},
     "output_type": "execute_result"
    }
   ],
   "source": [
    "states"
   ]
  },
  {
   "cell_type": "code",
   "execution_count": 153,
   "id": "4658d3cc-6273-494a-bb69-df697052df5a",
   "metadata": {},
   "outputs": [],
   "source": [
    "states.add('Bangalore')"
   ]
  },
  {
   "cell_type": "code",
   "execution_count": 155,
   "id": "3c478a2c-28a6-4b5c-8a4f-a24e179fc802",
   "metadata": {},
   "outputs": [
    {
     "data": {
      "text/plain": [
       "{'Bangalore', 'Delhi', 'Mumbai'}"
      ]
     },
     "execution_count": 155,
     "metadata": {},
     "output_type": "execute_result"
    }
   ],
   "source": [
    "states"
   ]
  },
  {
   "cell_type": "code",
   "execution_count": 157,
   "id": "3a018aca-cde7-4cac-a2de-38c11dbbfa93",
   "metadata": {},
   "outputs": [],
   "source": [
    "states.add('goa')"
   ]
  },
  {
   "cell_type": "code",
   "execution_count": 159,
   "id": "eaeefe4f-4f68-4178-8ebe-53f4ff80055b",
   "metadata": {},
   "outputs": [],
   "source": [
    "states.add('jaipur')"
   ]
  },
  {
   "cell_type": "code",
   "execution_count": 161,
   "id": "5da70543-9277-45d8-980c-a3453ebe57d3",
   "metadata": {},
   "outputs": [
    {
     "data": {
      "text/plain": [
       "{'Bangalore', 'Delhi', 'Mumbai', 'goa', 'jaipur'}"
      ]
     },
     "execution_count": 161,
     "metadata": {},
     "output_type": "execute_result"
    }
   ],
   "source": [
    "states\n"
   ]
  },
  {
   "cell_type": "code",
   "execution_count": 163,
   "id": "58994805-d955-41cb-bbbd-6d7356688382",
   "metadata": {},
   "outputs": [],
   "source": [
    "set1 = {1, 2, 3, 4, 5}\n",
    "set2 = {4, 5, 6, 7, 8}"
   ]
  },
  {
   "cell_type": "code",
   "execution_count": 165,
   "id": "8cbd27bb-e252-4876-8128-fbd6d156195a",
   "metadata": {},
   "outputs": [
    {
     "data": {
      "text/plain": [
       "{1, 2, 3}"
      ]
     },
     "execution_count": 165,
     "metadata": {},
     "output_type": "execute_result"
    }
   ],
   "source": [
    "set1 -set2"
   ]
  },
  {
   "cell_type": "code",
   "execution_count": 167,
   "id": "34e4ac2e-e3ce-4d92-b9e3-31692246135d",
   "metadata": {},
   "outputs": [
    {
     "data": {
      "text/plain": [
       "{1, 2, 3, 4, 5, 6, 7, 8}"
      ]
     },
     "execution_count": 167,
     "metadata": {},
     "output_type": "execute_result"
    }
   ],
   "source": [
    "set1 | set2"
   ]
  },
  {
   "cell_type": "code",
   "execution_count": 169,
   "id": "34ac1d87-1228-4ce1-be76-0626692332b4",
   "metadata": {},
   "outputs": [
    {
     "data": {
      "text/plain": [
       "{4, 5}"
      ]
     },
     "execution_count": 169,
     "metadata": {},
     "output_type": "execute_result"
    }
   ],
   "source": [
    "set1 & set2"
   ]
  },
  {
   "cell_type": "code",
   "execution_count": 171,
   "id": "5be64562-4e2f-4fdf-8572-71e0928df64f",
   "metadata": {},
   "outputs": [
    {
     "data": {
      "text/plain": [
       "{1, 2, 3, 6, 7, 8}"
      ]
     },
     "execution_count": 171,
     "metadata": {},
     "output_type": "execute_result"
    }
   ],
   "source": [
    "set1 ^ set2"
   ]
  },
  {
   "cell_type": "code",
   "execution_count": 175,
   "id": "1f2f13f2-f39f-443c-8add-65107e8f3686",
   "metadata": {},
   "outputs": [
    {
     "name": "stdout",
     "output_type": "stream",
     "text": [
      "My name is!\n"
     ]
    }
   ],
   "source": [
    "print('My name is!')"
   ]
  },
  {
   "cell_type": "code",
   "execution_count": 179,
   "id": "fcc9fb3d-9c48-4b28-99ce-655ff2b0ab73",
   "metadata": {},
   "outputs": [
    {
     "name": "stdin",
     "output_type": "stream",
     "text": [
      "Hi, there what is your name? mohan\n"
     ]
    },
    {
     "name": "stdout",
     "output_type": "stream",
     "text": [
      "Hello Mr. mohan\n"
     ]
    }
   ],
   "source": [
    "name = input('Hi, there what is your name?')\n",
    "print('Hello Mr.', name)"
   ]
  },
  {
   "cell_type": "code",
   "execution_count": 189,
   "id": "e2f40850-23b8-490e-a447-c11230a77560",
   "metadata": {},
   "outputs": [
    {
     "name": "stdout",
     "output_type": "stream",
     "text": [
      "\n",
      "     Welcome!     \n",
      "\n"
     ]
    }
   ],
   "source": [
    "print('\\nWelcome!\\n')"
   ]
  }
 ],
 "metadata": {
  "kernelspec": {
   "display_name": "Python 3 (ipykernel)",
   "language": "python",
   "name": "python3"
  },
  "language_info": {
   "codemirror_mode": {
    "name": "ipython",
    "version": 3
   },
   "file_extension": ".py",
   "mimetype": "text/x-python",
   "name": "python",
   "nbconvert_exporter": "python",
   "pygments_lexer": "ipython3",
   "version": "3.12.4"
  }
 },
 "nbformat": 4,
 "nbformat_minor": 5
}
